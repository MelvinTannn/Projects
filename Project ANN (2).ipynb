{
  "nbformat": 4,
  "nbformat_minor": 0,
  "metadata": {
    "colab": {
      "name": "Proj ANN nomor 2 - Melvin & Jason - 2301863263 & 2301865016.ipynb",
      "provenance": []
    },
    "kernelspec": {
      "name": "python3",
      "display_name": "Python 3"
    },
    "language_info": {
      "name": "python"
    }
  },
  "cells": [
    {
      "cell_type": "code",
      "metadata": {
        "id": "XRnyW-nPqG5j"
      },
      "source": [
        "#!pip install --upgrade tensorflow==1.15"
      ],
      "execution_count": null,
      "outputs": []
    },
    {
      "cell_type": "code",
      "metadata": {
        "id": "arlqZ0WOrERC"
      },
      "source": [
        "import pandas as pd\n",
        "import numpy as np\n",
        "import tensorflow as tf\n",
        "import matplotlib.pyplot as plt\n",
        "from sklearn.preprocessing import StandardScaler\n",
        "from sklearn.preprocessing import LabelEncoder, OneHotEncoder\n",
        "from tensorflow.keras.layers import SimpleRNNCell, RNN, Dense\n",
        "from sklearn.model_selection import train_test_split"
      ],
      "execution_count": null,
      "outputs": []
    },
    {
      "cell_type": "code",
      "metadata": {
        "id": "HA1byMuAwnZA"
      },
      "source": [
        "def load_dataset():\n",
        "  df = pd.read_csv('classification.csv')\n",
        "  cap_shape_temp = []\n",
        "  odor_temp = []\n",
        "  habitat_temp = []\n",
        "  df = df[['class', 'cap-shape', 'cap-color', 'odor', 'stalk-color-above-ring', 'stalk-color-below-ring', 'veil-color', 'ring-number', 'habitat']]\n",
        "\n",
        "  for item in df['cap-shape']:\n",
        "    if item == 'b':\n",
        "      cap_shape_temp.append(1)\n",
        "    elif item == 'c':\n",
        "      cap_shape_temp.append(2)\n",
        "    elif item == 'x':\n",
        "      cap_shape_temp.append(3)\n",
        "    elif item == 'f':\n",
        "      cap_shape_temp.append(4)\n",
        "    elif item == 'k':\n",
        "      cap_shape_temp.append(5)\n",
        "    elif item == 's':\n",
        "      cap_shape_temp.append(6)\n",
        "  df['cap-shape'] = cap_shape_temp\n",
        "\n",
        "  for item in df['odor']:\n",
        "    if item == 'a':\n",
        "      odor_temp.append(1)\n",
        "    elif item == 'l':\n",
        "      odor_temp.append(2)\n",
        "    elif item == 'c':\n",
        "      odor_temp.append(3)\n",
        "    elif item == 'y':\n",
        "      odor_temp.append(4)\n",
        "    elif item == 'f':\n",
        "      odor_temp.append(5)\n",
        "    elif item == 'm':\n",
        "      odor_temp.append(6)\n",
        "    elif item == 'n':\n",
        "      odor_temp.append(7)\n",
        "    elif item == 'p':\n",
        "      odor_temp.append(8)\n",
        "    elif item == 's':\n",
        "      odor_temp.append(9)\n",
        "  df['odor'] = odor_temp\n",
        "\n",
        "  for item in df['habitat']:\n",
        "    if item == 'g':\n",
        "      habitat_temp.append(1)\n",
        "    elif item == 'l':\n",
        "      habitat_temp.append(2)\n",
        "    elif item == 'm':\n",
        "      habitat_temp.append(3)\n",
        "    elif item == 'p':\n",
        "      habitat_temp.append(4)\n",
        "    elif item == 'u':\n",
        "      habitat_temp.append(5)\n",
        "    elif item == 'w':\n",
        "      habitat_temp.append(6)\n",
        "    elif item == 'd':\n",
        "      habitat_temp.append(7)\n",
        "  df['habitat'] = habitat_temp\n",
        "\n",
        "  return df"
      ],
      "execution_count": null,
      "outputs": []
    },
    {
      "cell_type": "code",
      "metadata": {
        "id": "VS_tXeJ2qOH4"
      },
      "source": [
        "df = load_dataset()\n",
        "features = df[['cap-shape', 'cap-color', 'odor', 'stalk-color-above-ring', 'stalk-color-below-ring', 'veil-color', 'ring-number', 'habitat']]\n",
        "#df[['class']] = LabelEncoder().fit_transform(df[['class']])\n",
        "label = df[['class']]"
      ],
      "execution_count": null,
      "outputs": []
    },
    {
      "cell_type": "code",
      "metadata": {
        "id": "RYeW9Anrq_Ju"
      },
      "source": [
        "normalize_data = StandardScaler().fit_transform(features)\n",
        "mean = tf.reduce_mean(normalize_data, axis=0)\n",
        "data_centered = normalize_data-mean"
      ],
      "execution_count": null,
      "outputs": []
    },
    {
      "cell_type": "code",
      "metadata": {
        "id": "uRlTPkxJrCRo"
      },
      "source": [
        "from sklearn.decomposition import PCA\n",
        "\n",
        "\n",
        "with tf.Session() as sess:\n",
        "  df = sess.run(data_centered)\n",
        "  pca = PCA(n_components = 4)\n",
        "  pca_fit = pca.fit(features)\n",
        "  result = pca_fit.transform(features)\n",
        "  "
      ],
      "execution_count": null,
      "outputs": []
    },
    {
      "cell_type": "code",
      "metadata": {
        "colab": {
          "base_uri": "https://localhost:8080/",
          "height": 419
        },
        "id": "BM9oNFMTzf-m",
        "outputId": "ec3fcf21-ec1c-48d3-a06f-e237982498ec"
      },
      "source": [
        "label"
      ],
      "execution_count": null,
      "outputs": [
        {
          "output_type": "execute_result",
          "data": {
            "text/html": [
              "<div>\n",
              "<style scoped>\n",
              "    .dataframe tbody tr th:only-of-type {\n",
              "        vertical-align: middle;\n",
              "    }\n",
              "\n",
              "    .dataframe tbody tr th {\n",
              "        vertical-align: top;\n",
              "    }\n",
              "\n",
              "    .dataframe thead th {\n",
              "        text-align: right;\n",
              "    }\n",
              "</style>\n",
              "<table border=\"1\" class=\"dataframe\">\n",
              "  <thead>\n",
              "    <tr style=\"text-align: right;\">\n",
              "      <th></th>\n",
              "      <th>class</th>\n",
              "    </tr>\n",
              "  </thead>\n",
              "  <tbody>\n",
              "    <tr>\n",
              "      <th>0</th>\n",
              "      <td>p</td>\n",
              "    </tr>\n",
              "    <tr>\n",
              "      <th>1</th>\n",
              "      <td>e</td>\n",
              "    </tr>\n",
              "    <tr>\n",
              "      <th>2</th>\n",
              "      <td>e</td>\n",
              "    </tr>\n",
              "    <tr>\n",
              "      <th>3</th>\n",
              "      <td>p</td>\n",
              "    </tr>\n",
              "    <tr>\n",
              "      <th>4</th>\n",
              "      <td>e</td>\n",
              "    </tr>\n",
              "    <tr>\n",
              "      <th>...</th>\n",
              "      <td>...</td>\n",
              "    </tr>\n",
              "    <tr>\n",
              "      <th>8119</th>\n",
              "      <td>e</td>\n",
              "    </tr>\n",
              "    <tr>\n",
              "      <th>8120</th>\n",
              "      <td>e</td>\n",
              "    </tr>\n",
              "    <tr>\n",
              "      <th>8121</th>\n",
              "      <td>e</td>\n",
              "    </tr>\n",
              "    <tr>\n",
              "      <th>8122</th>\n",
              "      <td>p</td>\n",
              "    </tr>\n",
              "    <tr>\n",
              "      <th>8123</th>\n",
              "      <td>e</td>\n",
              "    </tr>\n",
              "  </tbody>\n",
              "</table>\n",
              "<p>8124 rows × 1 columns</p>\n",
              "</div>"
            ],
            "text/plain": [
              "     class\n",
              "0        p\n",
              "1        e\n",
              "2        e\n",
              "3        p\n",
              "4        e\n",
              "...    ...\n",
              "8119     e\n",
              "8120     e\n",
              "8121     e\n",
              "8122     p\n",
              "8123     e\n",
              "\n",
              "[8124 rows x 1 columns]"
            ]
          },
          "metadata": {
            "tags": []
          },
          "execution_count": 7
        }
      ]
    },
    {
      "cell_type": "code",
      "metadata": {
        "id": "wBAzoZZfzON0"
      },
      "source": [
        "encoder = OneHotEncoder(handle_unknown = 'ignore').fit(label)\n",
        "label = encoder.transform(label).toarray()"
      ],
      "execution_count": null,
      "outputs": []
    },
    {
      "cell_type": "code",
      "metadata": {
        "colab": {
          "base_uri": "https://localhost:8080/"
        },
        "id": "WEXukh8CrEqU",
        "outputId": "3b09e733-2608-4a18-944d-9de8026c7473"
      },
      "source": [
        "split = int(len(result) * 0.7)\n",
        "split2 = int(len(result)* 0.2)\n",
        "rand_train = np.random.randint(len(result), size=split)\n",
        "rand_test = np.random.randint(len(result), size=split2)\n",
        "\n",
        "x_train = result[rand_train]\n",
        "x_test = result[rand_test]\n",
        "y_train = label[rand_train]\n",
        "y_test = label[rand_test]\n",
        "label"
      ],
      "execution_count": null,
      "outputs": [
        {
          "output_type": "execute_result",
          "data": {
            "text/plain": [
              "array([[0., 1.],\n",
              "       [1., 0.],\n",
              "       [1., 0.],\n",
              "       ...,\n",
              "       [1., 0.],\n",
              "       [0., 1.],\n",
              "       [1., 0.]])"
            ]
          },
          "metadata": {
            "tags": []
          },
          "execution_count": 9
        }
      ]
    },
    {
      "cell_type": "code",
      "metadata": {
        "id": "-Bgqs2h3tINV"
      },
      "source": [
        "n_features = x_train.shape[1]\n",
        "n_classes = y_train.shape[1]"
      ],
      "execution_count": null,
      "outputs": []
    },
    {
      "cell_type": "code",
      "metadata": {
        "id": "WhuKUPc03fUr"
      },
      "source": [
        "neurons = [8, 16, 16, 16, 8, n_classes]\n",
        "n_layers = len(neurons)\n",
        "timestep = 12"
      ],
      "execution_count": null,
      "outputs": []
    },
    {
      "cell_type": "code",
      "metadata": {
        "id": "vtghi56I46xQ"
      },
      "source": [
        "input_tensor = tf.placeholder(tf.float32)\n",
        "label_tensor = tf.placeholder(tf.float32)"
      ],
      "execution_count": null,
      "outputs": []
    },
    {
      "cell_type": "code",
      "metadata": {
        "id": "XPZg3CJG3jmT"
      },
      "source": [
        "def forward():\n",
        "  a = input_tensor\n",
        "  for i in range(n_layers):\n",
        "    w = parameters[f'W{i+1}']\n",
        "    b = parameters[f'B{i+1}']\n",
        "\n",
        "    z = tf.matmul(a, w) + b\n",
        "    if i == n_layers - 1:\n",
        "      a = tf.nn.softmax(z)\n",
        "    else:\n",
        "      a = tf.nn.tanh(z)\n",
        "  return a"
      ],
      "execution_count": null,
      "outputs": []
    },
    {
      "cell_type": "code",
      "metadata": {
        "id": "15M4Let73mZQ"
      },
      "source": [
        "parameters = {}\n",
        "for i in range(n_layers):\n",
        "  parameters[f'W{i+1}'] = tf.Variable(tf.random.normal([n_features if (i == 0) else neurons[i-1], neurons[i]]),tf.float32)\n",
        "  parameters[f'B{i+1}'] = tf.Variable(tf.random.normal([1, neurons[i]]),tf.float32)"
      ],
      "execution_count": null,
      "outputs": []
    },
    {
      "cell_type": "code",
      "metadata": {
        "id": "bnKF9uUr64eV"
      },
      "source": [
        "saver = tf.train.Saver()"
      ],
      "execution_count": null,
      "outputs": []
    },
    {
      "cell_type": "code",
      "metadata": {
        "id": "I9HRDbTc3ohM"
      },
      "source": [
        "y_predict = forward()\n",
        "EPOCH = 2500\n",
        "ALPHA = 0.5"
      ],
      "execution_count": null,
      "outputs": []
    },
    {
      "cell_type": "code",
      "metadata": {
        "colab": {
          "base_uri": "https://localhost:8080/"
        },
        "id": "FPOuadZ03sRe",
        "outputId": "0b6839bf-ca2f-4a6e-9cc8-bbe773805773"
      },
      "source": [
        "with tf.Session() as sess:\n",
        "  logits_tensor = forward()\n",
        "  loss_tensor = tf.reduce_mean(0.5 * (label_tensor - logits_tensor) ** 2)\n",
        "\n",
        "  optimizer = tf.train.GradientDescentOptimizer(ALPHA).minimize(loss_tensor)\n",
        "\n",
        "  sess.run(tf.global_variables_initializer())\n",
        "\n",
        "  best_loss = float('inf')\n",
        "  for i in range(1, EPOCH+1):\n",
        "    sess.run(optimizer, feed_dict={\n",
        "        input_tensor:x_train,\n",
        "        label_tensor:y_train\n",
        "    })\n",
        "    loss = sess.run(loss_tensor, feed_dict={\n",
        "        input_tensor:x_train,\n",
        "        label_tensor:y_train\n",
        "    })\n",
        "    if i % 25 == 0:\n",
        "      print(f'Epoch {i} Loss {loss:.4f} ')\n",
        "    y_pred=sess.run(y_predict, feed_dict={\n",
        "            input_tensor: x_train,\n",
        "            label_tensor: y_train\n",
        "        })\n",
        "    y_true = np.argmax(y_train,1)\n",
        "    y_preds = np.argmax(y_pred,1)\n",
        "\n",
        "    if i == 125:\n",
        "        val_loss = sess.run(loss_tensor, feed_dict={\n",
        "        input_tensor:x_test,\n",
        "        label_tensor:y_test\n",
        "        })\n",
        "        best_loss = val_loss\n",
        "        saver.save(sess, './best_model.ckpt')\n",
        "    \n",
        "    if i % 125 == 0:\n",
        "      saver.restore(sess, './best_model.ckpt')\n",
        "      if val_loss < best_loss:\n",
        "        best_loss = val_loss\n",
        "        saver.save(sess, './best_model.ckpt')\n"
      ],
      "execution_count": null,
      "outputs": [
        {
          "output_type": "stream",
          "text": [
            "WARNING:tensorflow:From /usr/local/lib/python3.7/dist-packages/tensorflow_core/python/ops/math_grad.py:1375: where (from tensorflow.python.ops.array_ops) is deprecated and will be removed in a future version.\n",
            "Instructions for updating:\n",
            "Use tf.where in 2.0, which has the same broadcast rule as np.where\n",
            "Epoch 25 Loss 0.0547 \n",
            "Epoch 50 Loss 0.0463 \n",
            "Epoch 75 Loss 0.0405 \n",
            "Epoch 100 Loss 0.0385 \n",
            "Epoch 125 Loss 0.0369 \n",
            "WARNING:tensorflow:Issue encountered when serializing variables.\n",
            "Type is unsupported, or the types of the items don't match field type in CollectionDef. Note this is a warning and probably safe to ignore.\n",
            "tf.float32 has type DType, but expected one of: int, long, bool\n",
            "WARNING:tensorflow:Issue encountered when serializing trainable_variables.\n",
            "Type is unsupported, or the types of the items don't match field type in CollectionDef. Note this is a warning and probably safe to ignore.\n",
            "tf.float32 has type DType, but expected one of: int, long, bool\n",
            "INFO:tensorflow:Restoring parameters from ./best_model.ckpt\n",
            "Epoch 150 Loss 0.0354 \n",
            "Epoch 175 Loss 0.0337 \n",
            "Epoch 200 Loss 0.0335 \n",
            "Epoch 225 Loss 0.0314 \n",
            "Epoch 250 Loss 0.0302 \n",
            "INFO:tensorflow:Restoring parameters from ./best_model.ckpt\n",
            "Epoch 275 Loss 0.0354 \n",
            "Epoch 300 Loss 0.0337 \n",
            "Epoch 325 Loss 0.0335 \n",
            "Epoch 350 Loss 0.0314 \n",
            "Epoch 375 Loss 0.0302 \n",
            "INFO:tensorflow:Restoring parameters from ./best_model.ckpt\n",
            "Epoch 400 Loss 0.0354 \n",
            "Epoch 425 Loss 0.0337 \n",
            "Epoch 450 Loss 0.0335 \n",
            "Epoch 475 Loss 0.0314 \n",
            "Epoch 500 Loss 0.0302 \n",
            "INFO:tensorflow:Restoring parameters from ./best_model.ckpt\n",
            "Epoch 525 Loss 0.0354 \n",
            "Epoch 550 Loss 0.0337 \n",
            "Epoch 575 Loss 0.0335 \n",
            "Epoch 600 Loss 0.0314 \n",
            "Epoch 625 Loss 0.0302 \n",
            "INFO:tensorflow:Restoring parameters from ./best_model.ckpt\n",
            "Epoch 650 Loss 0.0354 \n",
            "Epoch 675 Loss 0.0337 \n",
            "Epoch 700 Loss 0.0335 \n",
            "Epoch 725 Loss 0.0314 \n",
            "Epoch 750 Loss 0.0302 \n",
            "INFO:tensorflow:Restoring parameters from ./best_model.ckpt\n",
            "Epoch 775 Loss 0.0354 \n",
            "Epoch 800 Loss 0.0337 \n",
            "Epoch 825 Loss 0.0335 \n",
            "Epoch 850 Loss 0.0314 \n",
            "Epoch 875 Loss 0.0302 \n",
            "INFO:tensorflow:Restoring parameters from ./best_model.ckpt\n",
            "Epoch 900 Loss 0.0354 \n",
            "Epoch 925 Loss 0.0337 \n",
            "Epoch 950 Loss 0.0335 \n",
            "Epoch 975 Loss 0.0314 \n",
            "Epoch 1000 Loss 0.0302 \n",
            "INFO:tensorflow:Restoring parameters from ./best_model.ckpt\n",
            "Epoch 1025 Loss 0.0354 \n",
            "Epoch 1050 Loss 0.0337 \n",
            "Epoch 1075 Loss 0.0335 \n",
            "Epoch 1100 Loss 0.0314 \n",
            "Epoch 1125 Loss 0.0302 \n",
            "INFO:tensorflow:Restoring parameters from ./best_model.ckpt\n",
            "Epoch 1150 Loss 0.0354 \n",
            "Epoch 1175 Loss 0.0337 \n",
            "Epoch 1200 Loss 0.0335 \n",
            "Epoch 1225 Loss 0.0314 \n",
            "Epoch 1250 Loss 0.0302 \n",
            "INFO:tensorflow:Restoring parameters from ./best_model.ckpt\n",
            "Epoch 1275 Loss 0.0354 \n",
            "Epoch 1300 Loss 0.0337 \n",
            "Epoch 1325 Loss 0.0335 \n",
            "Epoch 1350 Loss 0.0314 \n",
            "Epoch 1375 Loss 0.0302 \n",
            "INFO:tensorflow:Restoring parameters from ./best_model.ckpt\n",
            "Epoch 1400 Loss 0.0354 \n",
            "Epoch 1425 Loss 0.0337 \n",
            "Epoch 1450 Loss 0.0335 \n",
            "Epoch 1475 Loss 0.0314 \n",
            "Epoch 1500 Loss 0.0302 \n",
            "INFO:tensorflow:Restoring parameters from ./best_model.ckpt\n",
            "Epoch 1525 Loss 0.0354 \n",
            "Epoch 1550 Loss 0.0337 \n",
            "Epoch 1575 Loss 0.0335 \n",
            "Epoch 1600 Loss 0.0314 \n",
            "Epoch 1625 Loss 0.0302 \n",
            "INFO:tensorflow:Restoring parameters from ./best_model.ckpt\n",
            "Epoch 1650 Loss 0.0354 \n",
            "Epoch 1675 Loss 0.0337 \n",
            "Epoch 1700 Loss 0.0335 \n",
            "Epoch 1725 Loss 0.0314 \n",
            "Epoch 1750 Loss 0.0302 \n",
            "INFO:tensorflow:Restoring parameters from ./best_model.ckpt\n",
            "Epoch 1775 Loss 0.0354 \n",
            "Epoch 1800 Loss 0.0337 \n",
            "Epoch 1825 Loss 0.0335 \n",
            "Epoch 1850 Loss 0.0314 \n",
            "Epoch 1875 Loss 0.0302 \n",
            "INFO:tensorflow:Restoring parameters from ./best_model.ckpt\n",
            "Epoch 1900 Loss 0.0354 \n",
            "Epoch 1925 Loss 0.0337 \n",
            "Epoch 1950 Loss 0.0335 \n",
            "Epoch 1975 Loss 0.0314 \n",
            "Epoch 2000 Loss 0.0302 \n",
            "INFO:tensorflow:Restoring parameters from ./best_model.ckpt\n",
            "Epoch 2025 Loss 0.0354 \n",
            "Epoch 2050 Loss 0.0337 \n",
            "Epoch 2075 Loss 0.0335 \n",
            "Epoch 2100 Loss 0.0314 \n",
            "Epoch 2125 Loss 0.0302 \n",
            "INFO:tensorflow:Restoring parameters from ./best_model.ckpt\n",
            "Epoch 2150 Loss 0.0354 \n",
            "Epoch 2175 Loss 0.0337 \n",
            "Epoch 2200 Loss 0.0335 \n",
            "Epoch 2225 Loss 0.0314 \n",
            "Epoch 2250 Loss 0.0302 \n",
            "INFO:tensorflow:Restoring parameters from ./best_model.ckpt\n",
            "Epoch 2275 Loss 0.0354 \n",
            "Epoch 2300 Loss 0.0337 \n",
            "Epoch 2325 Loss 0.0335 \n",
            "Epoch 2350 Loss 0.0314 \n",
            "Epoch 2375 Loss 0.0302 \n",
            "INFO:tensorflow:Restoring parameters from ./best_model.ckpt\n",
            "Epoch 2400 Loss 0.0354 \n",
            "Epoch 2425 Loss 0.0337 \n",
            "Epoch 2450 Loss 0.0335 \n",
            "Epoch 2475 Loss 0.0314 \n",
            "Epoch 2500 Loss 0.0302 \n",
            "INFO:tensorflow:Restoring parameters from ./best_model.ckpt\n"
          ],
          "name": "stdout"
        }
      ]
    },
    {
      "cell_type": "code",
      "metadata": {
        "colab": {
          "base_uri": "https://localhost:8080/"
        },
        "id": "zi5dMjb5_ECB",
        "outputId": "8fa7eabf-fda3-4eb0-edb4-5a2171f5afb2"
      },
      "source": [
        "split3 = int(len(result) * 0.1)\n",
        "rand_train = np.random.randint(len(result), size=split)\n",
        "dataacc = result[rand_train]\n",
        "\n",
        "split2 = int(len(dataacc)* 0.2)\n",
        "rand_test = np.random.randint(len(dataacc), size=split2)\n",
        "\n",
        "x_test = result[rand_test]\n",
        "y_test = label[rand_test]\n",
        "\n",
        "with tf.Session() as sess:\n",
        "  logits_tensor = forward()\n",
        "  loss_tensor = tf.reduce_mean(0.5 * (label_tensor - logits_tensor) ** 2)\n",
        "  true_preds_tensor = tf.equal(tf.argmax(logits_tensor, axis=1), tf.argmax(label_tensor, axis=1))\n",
        "  acc_tensor = tf.reduce_mean(tf.cast(true_preds_tensor, tf.float32))\n",
        "\n",
        "  optimizer = tf.train.GradientDescentOptimizer(ALPHA).minimize(loss_tensor)\n",
        "\n",
        "  sess.run(tf.global_variables_initializer())\n",
        "\n",
        "  for i in range(1, EPOCH+1):\n",
        "    sess.run(optimizer, feed_dict={\n",
        "        input_tensor:x_train,\n",
        "        label_tensor:y_train\n",
        "    })\n",
        "    acc = sess.run(acc_tensor, feed_dict={\n",
        "        input_tensor:x_train,\n",
        "        label_tensor:y_train\n",
        "    })\n",
        "    if i % 2500 == 0:\n",
        "      print(f'Accuracy {(acc*100):.4f} % ')\n",
        "    y_pred=sess.run(y_predict, feed_dict={\n",
        "            input_tensor: x_train,\n",
        "            label_tensor: y_train\n",
        "        })\n",
        "    y_true = np.argmax(y_train,1)\n",
        "    y_preds = np.argmax(y_pred,1)"
      ],
      "execution_count": null,
      "outputs": [
        {
          "output_type": "stream",
          "text": [
            "Accuracy 99.7010 % \n"
          ],
          "name": "stdout"
        }
      ]
    }
  ]
}