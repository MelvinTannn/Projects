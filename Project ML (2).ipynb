{
  "nbformat": 4,
  "nbformat_minor": 0,
  "metadata": {
    "colab": {
      "name": "Project_ML(SVR).ipynb",
      "provenance": [],
      "collapsed_sections": []
    },
    "kernelspec": {
      "name": "python3",
      "display_name": "Python 3"
    },
    "language_info": {
      "name": "python"
    }
  },
  "cells": [
    {
      "cell_type": "code",
      "metadata": {
        "id": "UQxasnNX5ux8"
      },
      "source": [
        "import pandas as pd\n",
        "import seaborn as sns\n",
        "import numpy as np\n",
        "import matplotlib.pyplot as plt\n",
        "from sklearn.model_selection import train_test_split\n",
        "from sklearn.svm import SVR\n",
        "from sklearn.preprocessing import StandardScaler, LabelEncoder\n",
        "from sklearn.metrics import mean_squared_error, mean_absolute_error"
      ],
      "execution_count": null,
      "outputs": []
    },
    {
      "cell_type": "code",
      "metadata": {
        "colab": {
          "base_uri": "https://localhost:8080/",
          "height": 406
        },
        "id": "QbBqREiT53Do",
        "outputId": "382db9f7-2a5c-4379-b6bb-aef3673f4091"
      },
      "source": [
        "# read datasets\n",
        "df_1 = pd.read_csv(\"gdp_improvement_rate.csv\")\n",
        "df_2 = pd.read_csv(\"unemployment.csv\")\n",
        "\n",
        "# merge datasets menjadi 1 dataset baru, merge berdasarkan fitur country\n",
        "df = pd.merge(df_1, df_2, on='country')\n",
        "\n",
        "# display dataset baru\n",
        "df"
      ],
      "execution_count": null,
      "outputs": [
        {
          "output_type": "execute_result",
          "data": {
            "text/html": [
              "<div>\n",
              "<style scoped>\n",
              "    .dataframe tbody tr th:only-of-type {\n",
              "        vertical-align: middle;\n",
              "    }\n",
              "\n",
              "    .dataframe tbody tr th {\n",
              "        vertical-align: top;\n",
              "    }\n",
              "\n",
              "    .dataframe thead th {\n",
              "        text-align: right;\n",
              "    }\n",
              "</style>\n",
              "<table border=\"1\" class=\"dataframe\">\n",
              "  <thead>\n",
              "    <tr style=\"text-align: right;\">\n",
              "      <th></th>\n",
              "      <th>country</th>\n",
              "      <th>growth_rate</th>\n",
              "      <th>unemployment_percentage</th>\n",
              "    </tr>\n",
              "  </thead>\n",
              "  <tbody>\n",
              "    <tr>\n",
              "      <th>0</th>\n",
              "      <td>Afghanistan</td>\n",
              "      <td>2.500</td>\n",
              "      <td>35.0</td>\n",
              "    </tr>\n",
              "    <tr>\n",
              "      <th>1</th>\n",
              "      <td>Albania</td>\n",
              "      <td>3.702</td>\n",
              "      <td>14.0</td>\n",
              "    </tr>\n",
              "    <tr>\n",
              "      <th>2</th>\n",
              "      <td>Algeria</td>\n",
              "      <td>1.457</td>\n",
              "      <td>11.7</td>\n",
              "    </tr>\n",
              "    <tr>\n",
              "      <th>3</th>\n",
              "      <td>Antigua and Barbuda</td>\n",
              "      <td>2.685</td>\n",
              "      <td>11.0</td>\n",
              "    </tr>\n",
              "    <tr>\n",
              "      <th>4</th>\n",
              "      <td>Argentina</td>\n",
              "      <td>2.464</td>\n",
              "      <td>8.1</td>\n",
              "    </tr>\n",
              "    <tr>\n",
              "      <th>...</th>\n",
              "      <td>...</td>\n",
              "      <td>...</td>\n",
              "      <td>...</td>\n",
              "    </tr>\n",
              "    <tr>\n",
              "      <th>154</th>\n",
              "      <td>Venezuela</td>\n",
              "      <td>-12.000</td>\n",
              "      <td>26.4</td>\n",
              "    </tr>\n",
              "    <tr>\n",
              "      <th>155</th>\n",
              "      <td>Vietnam</td>\n",
              "      <td>6.300</td>\n",
              "      <td>2.3</td>\n",
              "    </tr>\n",
              "    <tr>\n",
              "      <th>156</th>\n",
              "      <td>Yemen</td>\n",
              "      <td>-2.014</td>\n",
              "      <td>27.0</td>\n",
              "    </tr>\n",
              "    <tr>\n",
              "      <th>157</th>\n",
              "      <td>Zambia</td>\n",
              "      <td>3.978</td>\n",
              "      <td>15.0</td>\n",
              "    </tr>\n",
              "    <tr>\n",
              "      <th>158</th>\n",
              "      <td>Zimbabwe</td>\n",
              "      <td>2.814</td>\n",
              "      <td>95.0</td>\n",
              "    </tr>\n",
              "  </tbody>\n",
              "</table>\n",
              "<p>159 rows × 3 columns</p>\n",
              "</div>"
            ],
            "text/plain": [
              "                 country  growth_rate  unemployment_percentage\n",
              "0            Afghanistan        2.500                     35.0\n",
              "1                Albania        3.702                     14.0\n",
              "2                Algeria        1.457                     11.7\n",
              "3    Antigua and Barbuda        2.685                     11.0\n",
              "4              Argentina        2.464                      8.1\n",
              "..                   ...          ...                      ...\n",
              "154            Venezuela      -12.000                     26.4\n",
              "155              Vietnam        6.300                      2.3\n",
              "156                Yemen       -2.014                     27.0\n",
              "157               Zambia        3.978                     15.0\n",
              "158             Zimbabwe        2.814                     95.0\n",
              "\n",
              "[159 rows x 3 columns]"
            ]
          },
          "metadata": {
            "tags": []
          },
          "execution_count": 2
        }
      ]
    },
    {
      "cell_type": "code",
      "metadata": {
        "colab": {
          "base_uri": "https://localhost:8080/"
        },
        "id": "RRM8TR995-SF",
        "outputId": "129e4bca-2bb1-4eb6-b2ff-c8a530013687"
      },
      "source": [
        "# Check jumlah data null\n",
        "df.isnull().sum()"
      ],
      "execution_count": null,
      "outputs": [
        {
          "output_type": "execute_result",
          "data": {
            "text/plain": [
              "country                    0\n",
              "growth_rate                0\n",
              "unemployment_percentage    0\n",
              "dtype: int64"
            ]
          },
          "metadata": {
            "tags": []
          },
          "execution_count": 3
        }
      ]
    },
    {
      "cell_type": "code",
      "metadata": {
        "id": "lo3F6WKM5_aV"
      },
      "source": [
        "# Selecting features\n",
        "df['country'] = LabelEncoder().fit_transform(df['country'])\n",
        "x_data = df[['country', 'growth_rate']].values\n",
        "y_data = df['unemployment_percentage'].values"
      ],
      "execution_count": null,
      "outputs": []
    },
    {
      "cell_type": "code",
      "metadata": {
        "id": "GForxeWv6A-G"
      },
      "source": [
        "# Split dataset\n",
        "x_train, x_test, y_train, y_test = train_test_split(x_data, y_data, test_size=0.2, random_state=0)"
      ],
      "execution_count": null,
      "outputs": []
    },
    {
      "cell_type": "code",
      "metadata": {
        "id": "8WdKvnGL6FPs"
      },
      "source": [
        "# Feature scaling\n",
        "sc = StandardScaler().fit(x_train)\n",
        "x_train = sc.fit_transform(x_train)\n",
        "x_test = sc.fit_transform(x_test)"
      ],
      "execution_count": null,
      "outputs": []
    },
    {
      "cell_type": "code",
      "metadata": {
        "id": "CAjc-RDR6Htr"
      },
      "source": [
        "# Training SVM Classifier\n",
        "regressor = SVR(kernel = 'linear').fit(x_train, y_train)\n",
        "y_pred = regressor.predict(x_test)"
      ],
      "execution_count": null,
      "outputs": []
    },
    {
      "cell_type": "code",
      "metadata": {
        "colab": {
          "base_uri": "https://localhost:8080/"
        },
        "id": "qgdeRhx-6Y81",
        "outputId": "aedeeec7-741f-4bfc-f021-c2bc6a19972e"
      },
      "source": [
        "# Metrics Evaluation\n",
        "MSE = mean_squared_error(y_test, y_pred)\n",
        "MAE = mean_absolute_error(y_test, y_pred)\n",
        "RMSE = mean_squared_error(y_test, y_pred, squared=False)\n",
        "\n",
        "print(f'MSE : {MSE:.2f}')\n",
        "print(f'MAE : {MAE:.2f}')\n",
        "print(f'RMSE : {RMSE:.2f}')"
      ],
      "execution_count": null,
      "outputs": [
        {
          "output_type": "stream",
          "text": [
            "MSE : 77.59\n",
            "MAE : 5.80\n",
            "RMSE : 8.81\n"
          ],
          "name": "stdout"
        }
      ]
    },
    {
      "cell_type": "code",
      "metadata": {
        "colab": {
          "base_uri": "https://localhost:8080/",
          "height": 408
        },
        "id": "Kbx9HH3k6Zi-",
        "outputId": "9beb432b-d731-46cd-b4b6-dfa2e6f753e6"
      },
      "source": [
        "# Visualizing Plot Predicted Value vs Measure\n",
        "plt.figure(figsize=(6,6))\n",
        "plt.scatter(y_test, y_pred, color='red')\n",
        "p1 = max(max(y_pred), max(y_test))\n",
        "p2 = min(min(y_pred), min(y_test))\n",
        "plt.plot([p1, p2], [p1, p2], 'b-')\n",
        "plt.title('Predicted Unemployment vs GDP Rate')\n",
        "plt.xlabel('GDP Rate', fontsize=15)\n",
        "plt.ylabel('Predicted Unemployment', fontsize=15)\n",
        "plt.axis('equal')\n",
        "plt.show()"
      ],
      "execution_count": null,
      "outputs": [
        {
          "output_type": "display_data",
          "data": {
            "image/png": "[encoded data removed]",
            "text/plain": [
              "<Figure size 432x432 with 1 Axes>"
            ]
          },
          "metadata": {
            "tags": [],
            "needs_background": "light"
          }
        }
      ]
    }
  ]
}