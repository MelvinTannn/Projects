{
  "nbformat": 4,
  "nbformat_minor": 0,
  "metadata": {
    "colab": {
      "name": "QUIZ_1_ANN_Melvin_2301863263.ipynb",
      "provenance": [],
      "collapsed_sections": []
    },
    "kernelspec": {
      "display_name": "Python 3",
      "name": "python3"
    },
    "language_info": {
      "name": "python"
    }
  },
  "cells": [
    {
      "cell_type": "code",
      "metadata": {
        "id": "kXc64g3gXaqv",
        "colab": {
          "base_uri": "https://localhost:8080/"
        },
        "outputId": "b690a14b-95a5-4c2a-a715-10b8a22d9d88"
      },
      "source": [
        "!pip install --upgrade tensorflow==1.15"
      ],
      "execution_count": 1,
      "outputs": [
        {
          "output_type": "stream",
          "name": "stdout",
          "text": [
            "Collecting tensorflow==1.15\n",
            "  Downloading tensorflow-1.15.0-cp37-cp37m-manylinux2010_x86_64.whl (412.3 MB)\n",
            "\u001b[K     |████████████████████████████████| 412.3 MB 22 kB/s \n",
            "\u001b[?25hRequirement already satisfied: google-pasta>=0.1.6 in /usr/local/lib/python3.7/dist-packages (from tensorflow==1.15) (0.2.0)\n",
            "Requirement already satisfied: grpcio>=1.8.6 in /usr/local/lib/python3.7/dist-packages (from tensorflow==1.15) (1.41.0)\n",
            "Requirement already satisfied: opt-einsum>=2.3.2 in /usr/local/lib/python3.7/dist-packages (from tensorflow==1.15) (3.3.0)\n",
            "Collecting keras-applications>=1.0.8\n",
            "  Downloading Keras_Applications-1.0.8-py3-none-any.whl (50 kB)\n",
            "\u001b[K     |████████████████████████████████| 50 kB 5.8 MB/s \n",
            "\u001b[?25hRequirement already satisfied: wrapt>=1.11.1 in /usr/local/lib/python3.7/dist-packages (from tensorflow==1.15) (1.12.1)\n",
            "Requirement already satisfied: wheel>=0.26 in /usr/local/lib/python3.7/dist-packages (from tensorflow==1.15) (0.37.0)\n",
            "Requirement already satisfied: astor>=0.6.0 in /usr/local/lib/python3.7/dist-packages (from tensorflow==1.15) (0.8.1)\n",
            "Collecting gast==0.2.2\n",
            "  Downloading gast-0.2.2.tar.gz (10 kB)\n",
            "Requirement already satisfied: protobuf>=3.6.1 in /usr/local/lib/python3.7/dist-packages (from tensorflow==1.15) (3.17.3)\n",
            "Collecting tensorboard<1.16.0,>=1.15.0\n",
            "  Downloading tensorboard-1.15.0-py3-none-any.whl (3.8 MB)\n",
            "\u001b[K     |████████████████████████████████| 3.8 MB 62.4 MB/s \n",
            "\u001b[?25hCollecting tensorflow-estimator==1.15.1\n",
            "  Downloading tensorflow_estimator-1.15.1-py2.py3-none-any.whl (503 kB)\n",
            "\u001b[K     |████████████████████████████████| 503 kB 53.3 MB/s \n",
            "\u001b[?25hRequirement already satisfied: absl-py>=0.7.0 in /usr/local/lib/python3.7/dist-packages (from tensorflow==1.15) (0.12.0)\n",
            "Requirement already satisfied: six>=1.10.0 in /usr/local/lib/python3.7/dist-packages (from tensorflow==1.15) (1.15.0)\n",
            "Requirement already satisfied: numpy<2.0,>=1.16.0 in /usr/local/lib/python3.7/dist-packages (from tensorflow==1.15) (1.19.5)\n",
            "Requirement already satisfied: keras-preprocessing>=1.0.5 in /usr/local/lib/python3.7/dist-packages (from tensorflow==1.15) (1.1.2)\n",
            "Requirement already satisfied: termcolor>=1.1.0 in /usr/local/lib/python3.7/dist-packages (from tensorflow==1.15) (1.1.0)\n",
            "Requirement already satisfied: h5py in /usr/local/lib/python3.7/dist-packages (from keras-applications>=1.0.8->tensorflow==1.15) (3.1.0)\n",
            "Requirement already satisfied: setuptools>=41.0.0 in /usr/local/lib/python3.7/dist-packages (from tensorboard<1.16.0,>=1.15.0->tensorflow==1.15) (57.4.0)\n",
            "Requirement already satisfied: markdown>=2.6.8 in /usr/local/lib/python3.7/dist-packages (from tensorboard<1.16.0,>=1.15.0->tensorflow==1.15) (3.3.4)\n",
            "Requirement already satisfied: werkzeug>=0.11.15 in /usr/local/lib/python3.7/dist-packages (from tensorboard<1.16.0,>=1.15.0->tensorflow==1.15) (1.0.1)\n",
            "Requirement already satisfied: importlib-metadata in /usr/local/lib/python3.7/dist-packages (from markdown>=2.6.8->tensorboard<1.16.0,>=1.15.0->tensorflow==1.15) (4.8.1)\n",
            "Requirement already satisfied: cached-property in /usr/local/lib/python3.7/dist-packages (from h5py->keras-applications>=1.0.8->tensorflow==1.15) (1.5.2)\n",
            "Requirement already satisfied: typing-extensions>=3.6.4 in /usr/local/lib/python3.7/dist-packages (from importlib-metadata->markdown>=2.6.8->tensorboard<1.16.0,>=1.15.0->tensorflow==1.15) (3.7.4.3)\n",
            "Requirement already satisfied: zipp>=0.5 in /usr/local/lib/python3.7/dist-packages (from importlib-metadata->markdown>=2.6.8->tensorboard<1.16.0,>=1.15.0->tensorflow==1.15) (3.6.0)\n",
            "Building wheels for collected packages: gast\n",
            "  Building wheel for gast (setup.py) ... \u001b[?25l\u001b[?25hdone\n",
            "  Created wheel for gast: filename=gast-0.2.2-py3-none-any.whl size=7554 sha256=cf9b42cbbc265ee2ef4ccf7c784fbd44be1bc0281820946f1ec76f16b0c1c9fc\n",
            "  Stored in directory: /root/.cache/pip/wheels/21/7f/02/420f32a803f7d0967b48dd823da3f558c5166991bfd204eef3\n",
            "Successfully built gast\n",
            "Installing collected packages: tensorflow-estimator, tensorboard, keras-applications, gast, tensorflow\n",
            "  Attempting uninstall: tensorflow-estimator\n",
            "    Found existing installation: tensorflow-estimator 2.6.0\n",
            "    Uninstalling tensorflow-estimator-2.6.0:\n",
            "      Successfully uninstalled tensorflow-estimator-2.6.0\n",
            "  Attempting uninstall: tensorboard\n",
            "    Found existing installation: tensorboard 2.6.0\n",
            "    Uninstalling tensorboard-2.6.0:\n",
            "      Successfully uninstalled tensorboard-2.6.0\n",
            "  Attempting uninstall: gast\n",
            "    Found existing installation: gast 0.4.0\n",
            "    Uninstalling gast-0.4.0:\n",
            "      Successfully uninstalled gast-0.4.0\n",
            "  Attempting uninstall: tensorflow\n",
            "    Found existing installation: tensorflow 2.6.0\n",
            "    Uninstalling tensorflow-2.6.0:\n",
            "      Successfully uninstalled tensorflow-2.6.0\n",
            "\u001b[31mERROR: pip's dependency resolver does not currently take into account all the packages that are installed. This behaviour is the source of the following dependency conflicts.\n",
            "tensorflow-probability 0.14.1 requires gast>=0.3.2, but you have gast 0.2.2 which is incompatible.\n",
            "kapre 0.3.5 requires tensorflow>=2.0.0, but you have tensorflow 1.15.0 which is incompatible.\u001b[0m\n",
            "Successfully installed gast-0.2.2 keras-applications-1.0.8 tensorboard-1.15.0 tensorflow-1.15.0 tensorflow-estimator-1.15.1\n"
          ]
        }
      ]
    },
    {
      "cell_type": "code",
      "metadata": {
        "colab": {
          "base_uri": "https://localhost:8080/"
        },
        "id": "efYd_u9tObEq",
        "outputId": "0a954659-1cc4-4604-cccf-0c5ae99e6503"
      },
      "source": [
        "import tensorflow as tf\n",
        "import pandas as pd\n",
        "import numpy as np\n",
        "import statsmodels.api as sm\n",
        "from sklearn import datasets\n",
        "from sklearn.model_selection import train_test_split\n",
        "from sklearn.preprocessing import OneHotEncoder, StandardScaler\n",
        "from sklearn.metrics import confusion_matrix\n",
        "import matplotlib.pyplot as plt\n",
        "from sklearn.datasets import load_digits\n",
        "from sklearn.neighbors import KNeighborsClassifier\n",
        "from sklearn.model_selection import validation_curve"
      ],
      "execution_count": 2,
      "outputs": [
        {
          "output_type": "stream",
          "name": "stderr",
          "text": [
            "/usr/local/lib/python3.7/dist-packages/statsmodels/tools/_testing.py:19: FutureWarning: pandas.util.testing is deprecated. Use the functions in the public API at pandas.testing instead.\n",
            "  import pandas.util.testing as tm\n"
          ]
        }
      ]
    },
    {
      "cell_type": "code",
      "metadata": {
        "id": "2zFifEvjOvB7"
      },
      "source": [
        "df = datasets.load_digits()"
      ],
      "execution_count": 3,
      "outputs": []
    },
    {
      "cell_type": "code",
      "metadata": {
        "id": "J43wC3ToVLuG"
      },
      "source": [
        "x = df.data\n",
        "y = df.target"
      ],
      "execution_count": 4,
      "outputs": []
    },
    {
      "cell_type": "code",
      "metadata": {
        "id": "0ZhnNkaTOx2s"
      },
      "source": [
        "# Membagi data menjadi training set dan test set\n",
        "x_train, x_test, y_train, y_test = train_test_split(x, y, test_size=0.2, random_state=0)"
      ],
      "execution_count": 5,
      "outputs": []
    },
    {
      "cell_type": "code",
      "metadata": {
        "id": "UNTmyy0ZO2Ss"
      },
      "source": [
        "scaler = StandardScaler().fit(x_train)\n",
        "x_train = scaler.transform(x_train)\n",
        "x_test = scaler.transform(x_test)"
      ],
      "execution_count": 6,
      "outputs": []
    },
    {
      "cell_type": "code",
      "metadata": {
        "id": "2zAQzSJBO4cU"
      },
      "source": [
        "y_train = y_train.reshape(-1,1)\n",
        "y_test = y_test.reshape(-1,1)"
      ],
      "execution_count": 7,
      "outputs": []
    },
    {
      "cell_type": "code",
      "metadata": {
        "id": "QiQEFR8ZO_SR"
      },
      "source": [
        "encoder = OneHotEncoder(handle_unknown = 'ignore').fit(y_train)\n",
        "y_train = encoder.transform(y_train).toarray()\n",
        "y_test = encoder.transform(y_test).toarray()"
      ],
      "execution_count": 8,
      "outputs": []
    },
    {
      "cell_type": "code",
      "metadata": {
        "id": "sTz6eaf5PBME"
      },
      "source": [
        "# Melakukan cast pada data agar bertipe data float32\n",
        "x_train, x_test = x_train.astype('float32'), x_test.astype('float32')\n",
        "y_train, y_test = y_train.astype('float32'), y_test.astype('float32')"
      ],
      "execution_count": 9,
      "outputs": []
    },
    {
      "cell_type": "code",
      "metadata": {
        "id": "cSfssRptXzp-"
      },
      "source": [
        "# Menampung data\n",
        "input_tensor = tf.placeholder(tf.float32)\n",
        "label_tensor = tf.placeholder(tf.float32)"
      ],
      "execution_count": 10,
      "outputs": []
    },
    {
      "cell_type": "code",
      "metadata": {
        "id": "8rIsv8utYZ22"
      },
      "source": [
        "# Menentukan jumlah feature dan class\n",
        "n_features = x_train.shape[1]\n",
        "n_classes = y_train.shape[1]"
      ],
      "execution_count": 11,
      "outputs": []
    },
    {
      "cell_type": "code",
      "metadata": {
        "id": "YUgtDeezYJbF"
      },
      "source": [
        "# Menentukan jumlah hidden layer dan output\n",
        "neurons = [64, 128, 256, 256, 128, n_classes]\n",
        "n_layers = len(neurons)"
      ],
      "execution_count": 12,
      "outputs": []
    },
    {
      "cell_type": "code",
      "metadata": {
        "id": "bQJKy5wkXaYG"
      },
      "source": [
        "# Fungsi feed forward\n",
        "def forward():\n",
        "  a = input_tensor\n",
        "  for i in range(n_layers):\n",
        "    w = parameters[f'W{i+1}']\n",
        "    b = parameters[f'B{i+1}']\n",
        "\n",
        "    z = tf.matmul(a, w) + b\n",
        "    if i == n_layers - 1:\n",
        "      a = tf.nn.softmax(z)\n",
        "    else:\n",
        "      a = tf.nn.tanh(z)\n",
        "  return a"
      ],
      "execution_count": 13,
      "outputs": []
    },
    {
      "cell_type": "code",
      "metadata": {
        "id": "y442Tp_8ZSyo"
      },
      "source": [
        "parameters = {}\n",
        "for i in range(n_layers):\n",
        "  parameters[f'W{i+1}'] = tf.Variable(tf.random.normal([n_features if (i == 0) else neurons[i-1], neurons[i]]),tf.float32)\n",
        "  parameters[f'B{i+1}'] = tf.Variable(tf.random.normal([1, neurons[i]]),tf.float32)"
      ],
      "execution_count": 14,
      "outputs": []
    },
    {
      "cell_type": "code",
      "metadata": {
        "id": "JCmtpq-wPDLE"
      },
      "source": [
        "y_predict = forward()\n",
        "EPOCH = 5000\n",
        "ALPHA = 0.5"
      ],
      "execution_count": 15,
      "outputs": []
    },
    {
      "cell_type": "code",
      "metadata": {
        "colab": {
          "base_uri": "https://localhost:8080/"
        },
        "id": "JW6eKCxlPQEc",
        "outputId": "73a7e301-adb1-47cf-876a-73d7bcd17fcb"
      },
      "source": [
        "with tf.Session() as sess:\n",
        "  logits_tensor = forward()\n",
        "  loss_tensor = tf.reduce_mean(0.5 * (label_tensor - logits_tensor) ** 2)\n",
        "  true_preds_tensor = tf.equal(tf.argmax(logits_tensor, axis=1), tf.argmax(label_tensor, axis=1))\n",
        "  acc_tensor = tf.reduce_mean(tf.cast(true_preds_tensor, tf.float32))\n",
        "\n",
        "  optimizer = tf.train.GradientDescentOptimizer(ALPHA).minimize(loss_tensor)\n",
        "\n",
        "  sess.run(tf.global_variables_initializer())\n",
        "\n",
        "  for i in range(1, EPOCH+1):\n",
        "    sess.run(optimizer, feed_dict={\n",
        "        input_tensor:x_train,\n",
        "        label_tensor:y_train\n",
        "    })\n",
        "    acc = sess.run(acc_tensor, feed_dict={\n",
        "        input_tensor:x_train,\n",
        "        label_tensor:y_train\n",
        "    })\n",
        "    val_acc = sess.run(acc_tensor, feed_dict={\n",
        "        input_tensor:x_test,\n",
        "        label_tensor:y_test\n",
        "    })\n",
        "    if i % 50 == 0:\n",
        "      print(f'Epoch {i} Accuracy {(acc*100):.4f} % - Evaluation Accuracy {(val_acc * 100):.4f} %')\n",
        "    y_pred=sess.run(y_predict, feed_dict={\n",
        "            input_tensor: x_train,\n",
        "            label_tensor: y_train\n",
        "        })\n",
        "    y_true = np.argmax(y_train,1)\n",
        "    y_preds = np.argmax(y_pred,1)"
      ],
      "execution_count": 16,
      "outputs": [
        {
          "output_type": "stream",
          "name": "stdout",
          "text": [
            "WARNING:tensorflow:From /usr/local/lib/python3.7/dist-packages/tensorflow_core/python/ops/math_grad.py:1375: where (from tensorflow.python.ops.array_ops) is deprecated and will be removed in a future version.\n",
            "Instructions for updating:\n",
            "Use tf.where in 2.0, which has the same broadcast rule as np.where\n",
            "Epoch 50 Accuracy 29.7147 % - Evaluation Accuracy 11.3889 %\n",
            "Epoch 100 Accuracy 33.6117 % - Evaluation Accuracy 12.5000 %\n",
            "Epoch 150 Accuracy 41.4753 % - Evaluation Accuracy 14.4444 %\n",
            "Epoch 200 Accuracy 43.9805 % - Evaluation Accuracy 11.6667 %\n",
            "Epoch 250 Accuracy 46.4857 % - Evaluation Accuracy 11.3889 %\n",
            "Epoch 300 Accuracy 48.1559 % - Evaluation Accuracy 14.1667 %\n",
            "Epoch 350 Accuracy 49.6173 % - Evaluation Accuracy 13.6111 %\n",
            "Epoch 400 Accuracy 50.0348 % - Evaluation Accuracy 13.3333 %\n",
            "Epoch 450 Accuracy 50.8003 % - Evaluation Accuracy 13.0556 %\n",
            "Epoch 500 Accuracy 51.2874 % - Evaluation Accuracy 13.8889 %\n",
            "Epoch 550 Accuracy 51.6353 % - Evaluation Accuracy 12.5000 %\n",
            "Epoch 600 Accuracy 50.5915 % - Evaluation Accuracy 13.8889 %\n",
            "Epoch 650 Accuracy 51.9833 % - Evaluation Accuracy 15.0000 %\n",
            "Epoch 700 Accuracy 52.0529 % - Evaluation Accuracy 13.6111 %\n",
            "Epoch 750 Accuracy 52.0529 % - Evaluation Accuracy 14.4444 %\n",
            "Epoch 800 Accuracy 52.0529 % - Evaluation Accuracy 14.7222 %\n",
            "Epoch 850 Accuracy 52.1921 % - Evaluation Accuracy 15.2778 %\n",
            "Epoch 900 Accuracy 52.1921 % - Evaluation Accuracy 13.8889 %\n",
            "Epoch 950 Accuracy 52.2617 % - Evaluation Accuracy 14.4444 %\n",
            "Epoch 1000 Accuracy 52.4704 % - Evaluation Accuracy 14.1667 %\n",
            "Epoch 1050 Accuracy 52.6096 % - Evaluation Accuracy 14.1667 %\n",
            "Epoch 1100 Accuracy 52.6096 % - Evaluation Accuracy 14.1667 %\n",
            "Epoch 1150 Accuracy 52.6792 % - Evaluation Accuracy 13.6111 %\n",
            "Epoch 1200 Accuracy 52.5400 % - Evaluation Accuracy 13.8889 %\n",
            "Epoch 1250 Accuracy 53.1663 % - Evaluation Accuracy 13.3333 %\n",
            "Epoch 1300 Accuracy 53.2359 % - Evaluation Accuracy 13.3333 %\n",
            "Epoch 1350 Accuracy 53.3055 % - Evaluation Accuracy 13.3333 %\n",
            "Epoch 1400 Accuracy 53.3055 % - Evaluation Accuracy 13.3333 %\n",
            "Epoch 1450 Accuracy 53.4447 % - Evaluation Accuracy 13.3333 %\n",
            "Epoch 1500 Accuracy 53.4447 % - Evaluation Accuracy 12.7778 %\n",
            "Epoch 1550 Accuracy 53.5143 % - Evaluation Accuracy 13.0556 %\n",
            "Epoch 1600 Accuracy 53.5143 % - Evaluation Accuracy 12.2222 %\n",
            "Epoch 1650 Accuracy 53.5839 % - Evaluation Accuracy 13.0556 %\n",
            "Epoch 1700 Accuracy 53.5143 % - Evaluation Accuracy 12.7778 %\n",
            "Epoch 1750 Accuracy 53.0967 % - Evaluation Accuracy 12.5000 %\n",
            "Epoch 1800 Accuracy 53.7230 % - Evaluation Accuracy 14.1667 %\n",
            "Epoch 1850 Accuracy 53.6534 % - Evaluation Accuracy 13.8889 %\n",
            "Epoch 1900 Accuracy 53.6534 % - Evaluation Accuracy 13.6111 %\n",
            "Epoch 1950 Accuracy 53.7230 % - Evaluation Accuracy 13.6111 %\n",
            "Epoch 2000 Accuracy 53.7926 % - Evaluation Accuracy 13.8889 %\n",
            "Epoch 2050 Accuracy 53.8622 % - Evaluation Accuracy 13.8889 %\n",
            "Epoch 2100 Accuracy 53.8622 % - Evaluation Accuracy 13.8889 %\n",
            "Epoch 2150 Accuracy 53.9318 % - Evaluation Accuracy 14.1667 %\n",
            "Epoch 2200 Accuracy 53.9318 % - Evaluation Accuracy 13.8889 %\n",
            "Epoch 2250 Accuracy 53.0967 % - Evaluation Accuracy 13.0556 %\n",
            "Epoch 2300 Accuracy 53.9318 % - Evaluation Accuracy 15.5556 %\n",
            "Epoch 2350 Accuracy 53.9318 % - Evaluation Accuracy 14.7222 %\n",
            "Epoch 2400 Accuracy 54.0710 % - Evaluation Accuracy 14.4444 %\n",
            "Epoch 2450 Accuracy 54.0710 % - Evaluation Accuracy 14.4444 %\n",
            "Epoch 2500 Accuracy 54.1406 % - Evaluation Accuracy 14.4444 %\n",
            "Epoch 2550 Accuracy 54.1406 % - Evaluation Accuracy 14.4444 %\n",
            "Epoch 2600 Accuracy 54.2798 % - Evaluation Accuracy 13.3333 %\n",
            "Epoch 2650 Accuracy 54.4189 % - Evaluation Accuracy 13.6111 %\n",
            "Epoch 2700 Accuracy 54.4189 % - Evaluation Accuracy 13.6111 %\n",
            "Epoch 2750 Accuracy 54.4885 % - Evaluation Accuracy 13.3333 %\n",
            "Epoch 2800 Accuracy 54.4885 % - Evaluation Accuracy 14.1667 %\n",
            "Epoch 2850 Accuracy 54.4885 % - Evaluation Accuracy 13.8889 %\n",
            "Epoch 2900 Accuracy 54.4885 % - Evaluation Accuracy 13.8889 %\n",
            "Epoch 2950 Accuracy 54.4885 % - Evaluation Accuracy 13.6111 %\n",
            "Epoch 3000 Accuracy 54.4885 % - Evaluation Accuracy 13.8889 %\n",
            "Epoch 3050 Accuracy 54.4885 % - Evaluation Accuracy 13.3333 %\n",
            "Epoch 3100 Accuracy 54.4885 % - Evaluation Accuracy 13.6111 %\n",
            "Epoch 3150 Accuracy 54.5581 % - Evaluation Accuracy 14.1667 %\n",
            "Epoch 3200 Accuracy 54.5581 % - Evaluation Accuracy 14.1667 %\n",
            "Epoch 3250 Accuracy 54.5581 % - Evaluation Accuracy 14.4444 %\n",
            "Epoch 3300 Accuracy 54.4885 % - Evaluation Accuracy 13.8889 %\n",
            "Epoch 3350 Accuracy 54.4885 % - Evaluation Accuracy 14.1667 %\n",
            "Epoch 3400 Accuracy 54.4885 % - Evaluation Accuracy 13.6111 %\n",
            "Epoch 3450 Accuracy 54.5581 % - Evaluation Accuracy 15.0000 %\n",
            "Epoch 3500 Accuracy 54.6277 % - Evaluation Accuracy 14.1667 %\n",
            "Epoch 3550 Accuracy 54.6277 % - Evaluation Accuracy 13.6111 %\n",
            "Epoch 3600 Accuracy 54.6277 % - Evaluation Accuracy 14.4444 %\n",
            "Epoch 3650 Accuracy 54.6973 % - Evaluation Accuracy 14.1667 %\n",
            "Epoch 3700 Accuracy 54.6973 % - Evaluation Accuracy 13.8889 %\n",
            "Epoch 3750 Accuracy 54.8365 % - Evaluation Accuracy 13.0556 %\n",
            "Epoch 3800 Accuracy 54.8365 % - Evaluation Accuracy 13.3333 %\n",
            "Epoch 3850 Accuracy 54.8365 % - Evaluation Accuracy 13.6111 %\n",
            "Epoch 3900 Accuracy 54.8365 % - Evaluation Accuracy 13.3333 %\n",
            "Epoch 3950 Accuracy 54.8365 % - Evaluation Accuracy 13.0556 %\n",
            "Epoch 4000 Accuracy 54.8365 % - Evaluation Accuracy 13.3333 %\n",
            "Epoch 4050 Accuracy 54.8365 % - Evaluation Accuracy 13.0556 %\n",
            "Epoch 4100 Accuracy 54.8365 % - Evaluation Accuracy 13.0556 %\n",
            "Epoch 4150 Accuracy 54.9061 % - Evaluation Accuracy 13.0556 %\n",
            "Epoch 4200 Accuracy 54.9061 % - Evaluation Accuracy 13.6111 %\n",
            "Epoch 4250 Accuracy 54.9061 % - Evaluation Accuracy 13.8889 %\n",
            "Epoch 4300 Accuracy 54.9061 % - Evaluation Accuracy 14.1667 %\n",
            "Epoch 4350 Accuracy 55.0452 % - Evaluation Accuracy 13.6111 %\n",
            "Epoch 4400 Accuracy 55.0452 % - Evaluation Accuracy 13.6111 %\n",
            "Epoch 4450 Accuracy 55.1148 % - Evaluation Accuracy 14.4444 %\n",
            "Epoch 4500 Accuracy 55.0452 % - Evaluation Accuracy 14.4444 %\n",
            "Epoch 4550 Accuracy 55.1148 % - Evaluation Accuracy 14.4444 %\n",
            "Epoch 4600 Accuracy 55.2540 % - Evaluation Accuracy 14.1667 %\n",
            "Epoch 4650 Accuracy 55.2540 % - Evaluation Accuracy 13.6111 %\n",
            "Epoch 4700 Accuracy 55.2540 % - Evaluation Accuracy 14.4444 %\n",
            "Epoch 4750 Accuracy 55.2540 % - Evaluation Accuracy 14.1667 %\n",
            "Epoch 4800 Accuracy 55.2540 % - Evaluation Accuracy 14.4444 %\n",
            "Epoch 4850 Accuracy 55.2540 % - Evaluation Accuracy 14.4444 %\n",
            "Epoch 4900 Accuracy 55.2540 % - Evaluation Accuracy 14.4444 %\n",
            "Epoch 4950 Accuracy 55.2540 % - Evaluation Accuracy 14.4444 %\n",
            "Epoch 5000 Accuracy 55.2540 % - Evaluation Accuracy 14.4444 %\n"
          ]
        }
      ]
    },
    {
      "cell_type": "code",
      "metadata": {
        "colab": {
          "base_uri": "https://localhost:8080/"
        },
        "id": "kcqNsvinI5A2",
        "outputId": "0f444214-5f72-409f-b7d0-9bd70e405b0e"
      },
      "source": [
        "# Evaluasi hasil\n",
        "mtx = confusion_matrix(y_true, y_preds)\n",
        "print(mtx)"
      ],
      "execution_count": 17,
      "outputs": [
        {
          "output_type": "stream",
          "name": "stdout",
          "text": [
            "[[104   2   7   4  11   6   5   6   0   6]\n",
            " [  4  72   9  11  11  11   5   8   2  14]\n",
            " [  4   7  73  11  13   5  15   8   2   3]\n",
            " [  1   5  11  90  13   4   3   8  11   8]\n",
            " [  9   7   6   5  95  13   8   2   3   3]\n",
            " [  2   3   5   5   9  94   6   6   8   4]\n",
            " [  5   4   7   9  14  10  72  10   2   4]\n",
            " [  2   4   3  13   7   1  16  85   5   4]\n",
            " [ 14   5  11   4  14  12   7  13  46   9]\n",
            " [ 12   5  14   9   8  16   3   3   6  63]]\n"
          ]
        }
      ]
    },
    {
      "cell_type": "code",
      "metadata": {
        "id": "b8a27pLO45DZ"
      },
      "source": [
        "parameter_range = np.arange(1, 20, 1)\n",
        "train_score, test_score = validation_curve(KNeighborsClassifier(), x, y, param_name = \"n_neighbors\", param_range = parameter_range, cv = 5, scoring = \"accuracy\")\n",
        "mean_train_score = np.mean(train_score, axis = 1)\n",
        "std_train_score = np.std(train_score, axis = 1)\n",
        "mean_test_score = np.mean(test_score, axis = 1)\n",
        "std_test_score = np.std(test_score, axis = 1)"
      ],
      "execution_count": 18,
      "outputs": []
    },
    {
      "cell_type": "code",
      "metadata": {
        "colab": {
          "base_uri": "https://localhost:8080/",
          "height": 297
        },
        "id": "EYkNtnMK9IId",
        "outputId": "816f469e-5f31-4e96-be73-e8c18375778a"
      },
      "source": [
        "plt.plot(parameter_range, mean_train_score, label = \"Training Score\", color = 'blue')\n",
        "plt.plot(parameter_range, mean_test_score, label = \"Cross Validation Score\", color = 'red')\n",
        "plt.title(\"Validation Curve\")\n",
        "plt.xlabel(\"Number of Neighbours\")\n",
        "plt.ylabel(\"Accuracy\")\n",
        "plt.tight_layout()\n",
        "plt.legend(loc = 'best')\n",
        "plt.show()"
      ],
      "execution_count": 19,
      "outputs": [
        {
          "output_type": "display_data",
          "data": {
            "image/png": "[encoded data removed]",
            "text/plain": [
              "<Figure size 432x288 with 1 Axes>"
            ]
          },
          "metadata": {
            "needs_background": "light"
          }
        }
      ]
    }
  ]
}