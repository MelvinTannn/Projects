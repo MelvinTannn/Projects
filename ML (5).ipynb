{
  "nbformat": 4,
  "nbformat_minor": 0,
  "metadata": {
    "colab": {
      "name": "UTS_ML_Melvin_2301863263.ipynb",
      "provenance": [],
      "collapsed_sections": []
    },
    "kernelspec": {
      "name": "python3",
      "display_name": "Python 3"
    },
    "language_info": {
      "name": "python"
    }
  },
  "cells": [
    {
      "cell_type": "code",
      "metadata": {
        "id": "FhRG_JKAUN3-"
      },
      "source": [
        "#!pip install --upgrade tensorflow==1.15"
      ],
      "execution_count": null,
      "outputs": []
    },
    {
      "cell_type": "code",
      "metadata": {
        "id": "rKJ6MUplVB__",
        "colab": {
          "base_uri": "https://localhost:8080/"
        },
        "outputId": "3b008ad9-d758-4378-b5f7-50e86427f839"
      },
      "source": [
        "import tensorflow as tf\n",
        "import pandas as pd\n",
        "import numpy as np\n",
        "from sklearn.model_selection import train_test_split\n",
        "from sklearn.preprocessing import LabelEncoder, StandardScaler, OneHotEncoder\n",
        "from sklearn.compose import ColumnTransformer\n",
        "from sklearn.datasets import load_boston\n",
        "import matplotlib\n",
        "import matplotlib.pyplot as plt\n",
        "import seaborn as sns\n",
        "import statsmodels.api as sm\n",
        "%matplotlib inline\n",
        "import math\n",
        "from sklearn.linear_model import LinearRegression\n",
        "from sklearn.feature_selection import RFE\n",
        "from sklearn.metrics import mean_squared_error\n",
        "from sklearn.metrics import mean_absolute_error\n"
      ],
      "execution_count": null,
      "outputs": [
        {
          "output_type": "stream",
          "text": [
            "/usr/local/lib/python3.7/dist-packages/statsmodels/tools/_testing.py:19: FutureWarning: pandas.util.testing is deprecated. Use the functions in the public API at pandas.testing instead.\n",
            "  import pandas.util.testing as tm\n"
          ],
          "name": "stderr"
        }
      ]
    },
    {
      "cell_type": "code",
      "metadata": {
        "colab": {
          "base_uri": "https://localhost:8080/"
        },
        "id": "MSLOI-BTVPNF",
        "outputId": "4e03e305-a0c0-4055-e83c-d46b8e5a9ebc"
      },
      "source": [
        "data = pd.read_csv('Mall_Customers.csv')\n",
        "print(data)\n",
        "df = pd.DataFrame(data)\n",
        "df['Genre'] = pd.to_numeric(df['Genre'],errors='coerce')\n",
        "df = df.replace(np.nan, 0, regex=True)\n",
        "df['Genre'] = df['Genre'].astype(int)\n",
        "print(df)\n"
      ],
      "execution_count": null,
      "outputs": [
        {
          "output_type": "stream",
          "text": [
            "     CustomerID   Genre  Age  Annual Income (k$)  Spending Score (1-100)\n",
            "0             1    Male   19                  15                      39\n",
            "1             2    Male   21                  15                      81\n",
            "2             3  Female   20                  16                       6\n",
            "3             4  Female   23                  16                      77\n",
            "4             5  Female   31                  17                      40\n",
            "..          ...     ...  ...                 ...                     ...\n",
            "195         196  Female   35                 120                      79\n",
            "196         197  Female   45                 126                      28\n",
            "197         198    Male   32                 126                      74\n",
            "198         199    Male   32                 137                      18\n",
            "199         200    Male   30                 137                      83\n",
            "\n",
            "[200 rows x 5 columns]\n",
            "     CustomerID  Genre  Age  Annual Income (k$)  Spending Score (1-100)\n",
            "0             1      0   19                  15                      39\n",
            "1             2      0   21                  15                      81\n",
            "2             3      0   20                  16                       6\n",
            "3             4      0   23                  16                      77\n",
            "4             5      0   31                  17                      40\n",
            "..          ...    ...  ...                 ...                     ...\n",
            "195         196      0   35                 120                      79\n",
            "196         197      0   45                 126                      28\n",
            "197         198      0   32                 126                      74\n",
            "198         199      0   32                 137                      18\n",
            "199         200      0   30                 137                      83\n",
            "\n",
            "[200 rows x 5 columns]\n"
          ],
          "name": "stdout"
        }
      ]
    },
    {
      "cell_type": "code",
      "metadata": {
        "colab": {
          "base_uri": "https://localhost:8080/"
        },
        "id": "tNLCwJrUkSkR",
        "outputId": "29974421-87c7-43ef-a30d-76a1b94800c5"
      },
      "source": [
        "df.isnull().sum()"
      ],
      "execution_count": null,
      "outputs": [
        {
          "output_type": "execute_result",
          "data": {
            "text/plain": [
              "CustomerID                0\n",
              "Genre                     0\n",
              "Age                       0\n",
              "Annual Income (k$)        0\n",
              "Spending Score (1-100)    0\n",
              "dtype: int64"
            ]
          },
          "metadata": {
            "tags": []
          },
          "execution_count": 4
        }
      ]
    },
    {
      "cell_type": "code",
      "metadata": {
        "colab": {
          "base_uri": "https://localhost:8080/"
        },
        "id": "cinHhVLaaBK8",
        "outputId": "12de50f9-b8c9-4adf-acd2-6463520a7f43"
      },
      "source": [
        "df.mean()"
      ],
      "execution_count": null,
      "outputs": [
        {
          "output_type": "execute_result",
          "data": {
            "text/plain": [
              "CustomerID                100.50\n",
              "Genre                       0.00\n",
              "Age                        38.85\n",
              "Annual Income (k$)         60.56\n",
              "Spending Score (1-100)     50.20\n",
              "dtype: float64"
            ]
          },
          "metadata": {
            "tags": []
          },
          "execution_count": 5
        }
      ]
    },
    {
      "cell_type": "code",
      "metadata": {
        "id": "lwM7aeqTaqxi"
      },
      "source": [
        "df = df.fillna(df.mean())"
      ],
      "execution_count": null,
      "outputs": []
    },
    {
      "cell_type": "code",
      "metadata": {
        "id": "trfcAxn6Wv5R",
        "colab": {
          "base_uri": "https://localhost:8080/"
        },
        "outputId": "46bc2c0c-4e32-40f0-8ced-81c3a5402318"
      },
      "source": [
        "df.isnull().sum()"
      ],
      "execution_count": null,
      "outputs": [
        {
          "output_type": "execute_result",
          "data": {
            "text/plain": [
              "CustomerID                0\n",
              "Genre                     0\n",
              "Age                       0\n",
              "Annual Income (k$)        0\n",
              "Spending Score (1-100)    0\n",
              "dtype: int64"
            ]
          },
          "metadata": {
            "tags": []
          },
          "execution_count": 7
        }
      ]
    },
    {
      "cell_type": "code",
      "metadata": {
        "colab": {
          "base_uri": "https://localhost:8080/",
          "height": 686
        },
        "id": "QgBlGvBJbHjH",
        "outputId": "9b20f399-2bde-4f5d-9d6e-6f9220cf729d"
      },
      "source": [
        "plt.figure(figsize=(12,10))\n",
        "cor = df.corr()\n",
        "sns.heatmap(cor, annot=True, cmap=plt.cm.Pastel1)\n",
        "plt.show()\n",
        "df.drop('Genre', axis='columns', inplace=True)"
      ],
      "execution_count": null,
      "outputs": [
        {
          "output_type": "display_data",
          "data": {
            "image/png": "[encoded data removed]",
            "text/plain": [
              "<Figure size 864x720 with 2 Axes>"
            ]
          },
          "metadata": {
            "tags": [],
            "needs_background": "light"
          }
        }
      ]
    },
    {
      "cell_type": "markdown",
      "metadata": {
        "id": "rlZJQlXwo56N"
      },
      "source": [
        "Dari hasil matrix diatas maka dapat dilihat bahwa angka dari >0 sampai 1 adalah nilai korelasi dengan spending score dimana semakin dekat dengan angka 1 semakin besar positive korelasi dengan target sedangkan jika <0 sampai -1 adalah niali korelasi dimana semakin dekat dengan angka -1 maka semakin besar negative korelasi dengan target dan jika 0 maka tidak ada korelasi sama sekali. dari data diatas dapat dilihat bahwa collumn CustomerID dan Annual Income memiliki korelasi positive terhadapt Spending score sedangkan collumn Age memiliki korelasi negative terhadap spending score dan collumn genre tidak memiliki korelasi sama sekali dengan spending score. oleh karena itu kita nanti akan mendrop collumn Genre"
      ]
    },
    {
      "cell_type": "code",
      "metadata": {
        "colab": {
          "base_uri": "https://localhost:8080/"
        },
        "id": "dC9b2SC0eHAI",
        "outputId": "ebd30024-3b02-409e-869b-059996a8c929"
      },
      "source": [
        "#Correlation with output variable\n",
        "cor_target = abs(cor[\"Spending Score (1-100)\"])\n",
        "#Selecting highly correlated features\n",
        "relevant_features = cor_target[cor_target>0]\n",
        "relevant_features"
      ],
      "execution_count": null,
      "outputs": [
        {
          "output_type": "execute_result",
          "data": {
            "text/plain": [
              "CustomerID                0.013835\n",
              "Age                       0.327227\n",
              "Annual Income (k$)        0.009903\n",
              "Spending Score (1-100)    1.000000\n",
              "Name: Spending Score (1-100), dtype: float64"
            ]
          },
          "metadata": {
            "tags": []
          },
          "execution_count": 9
        }
      ]
    },
    {
      "cell_type": "markdown",
      "metadata": {
        "id": "2FpiXJcMofIG"
      },
      "source": [
        "Dari hasil diatas dapat dilihat bahwa Age memiliki korelasi terbesar terhadap spending score, lalu diikuti oleh CustomerID dan Annual Income sedangkan untuk Genre tidak memiliki korelasi sama sekali."
      ]
    },
    {
      "cell_type": "code",
      "metadata": {
        "colab": {
          "base_uri": "https://localhost:8080/"
        },
        "id": "ecXHU7wWe2BT",
        "outputId": "752a3cb9-30b3-42bf-b636-f25c5cf3439f"
      },
      "source": [
        "print(data[[\"CustomerID\",\"Age\"]].corr())\n",
        "print(data[[\"Annual Income (k$)\",\"Age\"]].corr())\n",
        "\n",
        "df.drop('CustomerID', axis='columns', inplace=True)"
      ],
      "execution_count": null,
      "outputs": [
        {
          "output_type": "stream",
          "text": [
            "            CustomerID       Age\n",
            "CustomerID    1.000000 -0.026763\n",
            "Age          -0.026763  1.000000\n",
            "                    Annual Income (k$)       Age\n",
            "Annual Income (k$)            1.000000 -0.012398\n",
            "Age                          -0.012398  1.000000\n"
          ],
          "name": "stdout"
        }
      ]
    },
    {
      "cell_type": "markdown",
      "metadata": {
        "id": "_ChyVx47sbBd"
      },
      "source": [
        "Dari data diatas kita dapat lihat bahwa korelasi antara sesama independent variable juga berimpact terhadap permodelan linear regression nantinya oleh karena itu lebih baik jika sesama linear independent variable untuk tidak memiliki korelasi yang tinggi 1 sama yang lain. Dari data diatas kita dapat melihat bahwa karena collumn Age memiliki korelasi terbesar dengan target maka kita harus menjadikan collumn Age menjadi patokan lalu dibandingkan dengan collumn independent lainnya. Dari data kita dapat bahwa Annual Income memiliki korelasi dengan Age lebih kecil daripada CustomerID oleh karena itu kita akan mendrop collumn customerID dan mengambil Annual Income dan Age."
      ]
    },
    {
      "cell_type": "code",
      "metadata": {
        "colab": {
          "base_uri": "https://localhost:8080/"
        },
        "id": "Wq9y5yVIsacn",
        "outputId": "41edbec4-e7e2-4193-b3ae-7e88de8d4a1d"
      },
      "source": [
        "cols = df.columns\n",
        "features = df[cols[0:-1]].values\n",
        "label = df[cols[-1]].values\n",
        "x_train, x_test, y_train, y_test = train_test_split(features, label, test_size=0.2, random_state=1)\n",
        "print('Training Set Features:\\n', x_train)\n",
        "print('\\nTraining Set Labels:\\n',y_train)"
      ],
      "execution_count": null,
      "outputs": [
        {
          "output_type": "stream",
          "text": [
            "Training Set Features:\n",
            " [[ 68  63]\n",
            " [ 54  63]\n",
            " [ 36 103]\n",
            " [ 37  20]\n",
            " [ 51  44]\n",
            " [ 35  23]\n",
            " [ 18  65]\n",
            " [ 20  37]\n",
            " [ 30  99]\n",
            " [ 23  70]\n",
            " [ 48  61]\n",
            " [ 39  69]\n",
            " [ 50  67]\n",
            " [ 59  43]\n",
            " [ 18  33]\n",
            " [ 35  93]\n",
            " [ 32  97]\n",
            " [ 66  63]\n",
            " [ 30 137]\n",
            " [ 19  74]\n",
            " [ 63  65]\n",
            " [ 68  48]\n",
            " [ 23  54]\n",
            " [ 48  39]\n",
            " [ 20  21]\n",
            " [ 22  17]\n",
            " [ 40  71]\n",
            " [ 21  62]\n",
            " [ 29  40]\n",
            " [ 43  48]\n",
            " [ 50  43]\n",
            " [ 21  54]\n",
            " [ 29  98]\n",
            " [ 34  78]\n",
            " [ 42  86]\n",
            " [ 19  64]\n",
            " [ 58  20]\n",
            " [ 49  65]\n",
            " [ 40  60]\n",
            " [ 27  67]\n",
            " [ 47  78]\n",
            " [ 68  59]\n",
            " [ 38  54]\n",
            " [ 40  69]\n",
            " [ 32 103]\n",
            " [ 24  20]\n",
            " [ 67  54]\n",
            " [ 25  72]\n",
            " [ 28 101]\n",
            " [ 24  39]\n",
            " [ 20  61]\n",
            " [ 42  34]\n",
            " [ 29  79]\n",
            " [ 54 101]\n",
            " [ 38  78]\n",
            " [ 26  62]\n",
            " [ 35 120]\n",
            " [ 32 126]\n",
            " [ 34  78]\n",
            " [ 36  87]\n",
            " [ 26  54]\n",
            " [ 25  24]\n",
            " [ 18  59]\n",
            " [ 44  78]\n",
            " [ 20  16]\n",
            " [ 70  49]\n",
            " [ 48  54]\n",
            " [ 43  78]\n",
            " [ 35  18]\n",
            " [ 38  64]\n",
            " [ 19  15]\n",
            " [ 27  78]\n",
            " [ 40  54]\n",
            " [ 18  48]\n",
            " [ 47  43]\n",
            " [ 33  86]\n",
            " [ 34  58]\n",
            " [ 47  71]\n",
            " [ 50  40]\n",
            " [ 67  47]\n",
            " [ 59  54]\n",
            " [ 48  60]\n",
            " [ 32  77]\n",
            " [ 56  79]\n",
            " [ 32  76]\n",
            " [ 22  57]\n",
            " [ 37  97]\n",
            " [ 28  77]\n",
            " [ 50  85]\n",
            " [ 67  19]\n",
            " [ 53  33]\n",
            " [ 46  54]\n",
            " [ 46  98]\n",
            " [ 23  62]\n",
            " [ 31  70]\n",
            " [ 31  25]\n",
            " [ 43  71]\n",
            " [ 30  19]\n",
            " [ 40  87]\n",
            " [ 49  62]\n",
            " [ 39  78]\n",
            " [ 29  73]\n",
            " [ 19  63]\n",
            " [ 41 103]\n",
            " [ 63  48]\n",
            " [ 22  20]\n",
            " [ 24  38]\n",
            " [ 31  81]\n",
            " [ 66  63]\n",
            " [ 57  54]\n",
            " [ 31  43]\n",
            " [ 45  28]\n",
            " [ 45  54]\n",
            " [ 31  39]\n",
            " [ 54  28]\n",
            " [ 23  16]\n",
            " [ 32  87]\n",
            " [ 31  40]\n",
            " [ 34  78]\n",
            " [ 39  71]\n",
            " [ 34 103]\n",
            " [ 60  30]\n",
            " [ 38  67]\n",
            " [ 19  65]\n",
            " [ 30  88]\n",
            " [ 64  19]\n",
            " [ 70  46]\n",
            " [ 59  71]\n",
            " [ 21  15]\n",
            " [ 69  44]\n",
            " [ 46  25]\n",
            " [ 19  46]\n",
            " [ 54  47]\n",
            " [ 23  18]\n",
            " [ 45 126]\n",
            " [ 32  75]\n",
            " [ 55  57]\n",
            " [ 47  60]\n",
            " [ 19  48]\n",
            " [ 49  42]\n",
            " [ 28  76]\n",
            " [ 30  78]\n",
            " [ 37  78]\n",
            " [ 35  74]\n",
            " [ 48  77]\n",
            " [ 49  62]\n",
            " [ 35  24]\n",
            " [ 59  93]\n",
            " [ 29  28]\n",
            " [ 20  73]\n",
            " [ 47  49]\n",
            " [ 38  71]\n",
            " [ 25  77]\n",
            " [ 33 113]\n",
            " [ 49  54]\n",
            " [ 31  72]\n",
            " [ 32  73]\n",
            " [ 60  50]\n",
            " [ 57  75]\n",
            " [ 30  34]]\n",
            "\n",
            "Training Set Labels:\n",
            " [43 46 85 13 50 98 48 75 97 29 42 91 57 60 92 90 86 50 83 10 43 48 52 36\n",
            " 66 76 95 42 42 50 45 57 88  1 20 46 15 59 40 56 16 55 55 58 69 77 41 34\n",
            " 68 65 49 17 83 24 76 55 79 74 22 92 54 73 41 20  6 55 46 17  6 42 39 89\n",
            " 48 59 41 95 60  9 55 52 47 49 74 35 87 55 32 97 26 14  4 44 15 41 77 73\n",
            " 35 72 13 56 88 88 54 17 51 79 92 93 48 51 54 32 53 61 14 77 63 42 90 75\n",
            " 23  4 40 50 86  3 56 11 81 46  5 55 59 94 28 93 58 47 59 52 40 78  1 72\n",
            " 36 48 35 14 82  5 42 75 12  8 42 71 73 49  5 73]\n"
          ],
          "name": "stdout"
        }
      ]
    },
    {
      "cell_type": "code",
      "metadata": {
        "colab": {
          "base_uri": "https://localhost:8080/"
        },
        "id": "t7fD-eb1walO",
        "outputId": "d1428e5c-7c39-45f3-d1aa-bc9d05fa2558"
      },
      "source": [
        "lr = LinearRegression()\n",
        "lr.fit(x_train, y_train)"
      ],
      "execution_count": null,
      "outputs": [
        {
          "output_type": "execute_result",
          "data": {
            "text/plain": [
              "LinearRegression(copy_X=True, fit_intercept=True, n_jobs=None, normalize=False)"
            ]
          },
          "metadata": {
            "tags": []
          },
          "execution_count": 12
        }
      ]
    },
    {
      "cell_type": "markdown",
      "metadata": {
        "id": "9Jn9e2cMT6Fs"
      },
      "source": [
        "Disini kita sudah memasukkan semua training datanya ke dalam model LinearRegression"
      ]
    },
    {
      "cell_type": "code",
      "metadata": {
        "colab": {
          "base_uri": "https://localhost:8080/"
        },
        "id": "CnBLbwFNBRMy",
        "outputId": "f6718001-4a4e-436d-f849-8f8632e35843"
      },
      "source": [
        "y_pred = lr.predict(x_test)\n",
        "print('Data Prediction:\\n', y_pred)\n",
        "print('Data Aktual:\\n' , y_test)\n",
        "print('Accuracy:\\n',lr.score(x_train, y_train))\n",
        "sort_x = sorted(x_test, key=lambda x: x[0], reverse=True)"
      ],
      "execution_count": null,
      "outputs": [
        {
          "output_type": "stream",
          "text": [
            "Data Prediction:\n",
            " [57.61169526 33.96772858 43.39971445 34.25062373 52.39975856 60.25770081\n",
            " 60.31439721 53.36183678 58.98467266 54.69448357 59.56682874 40.94717608\n",
            " 51.05074598 44.35419363 35.53125091 44.30801852 57.78587441 60.45292253\n",
            " 48.9465659  41.77657348 53.70727282 51.17582777 43.77495981 55.44205204\n",
            " 60.26529985 64.67297169 51.56743891 48.63093919 55.1024605  51.61361402\n",
            " 57.23644991 54.56940179 50.05885844 60.23841278 41.35807526 58.48726777\n",
            " 45.01233413 37.76343503 54.69156132 54.69448357]\n",
            "Data Aktual:\n",
            " [51 35 14 59 39 18 52 40 87 27 75 29 99 46 52 43 73 81  7 46 60 35 28 42\n",
            " 73  5 26 31 91 61 47 75 16 69 15 50 13 56 47 10]\n",
            "Accuracy:\n",
            " 0.11504970689968541\n"
          ],
          "name": "stdout"
        }
      ]
    },
    {
      "cell_type": "markdown",
      "metadata": {
        "id": "ukhRGc36U29Z"
      },
      "source": [
        "Tujuan dari sort x diatas adalah agar nantinya ketika ingin dibuat grafik garis grafiknya tidak jelek atau timpa menimpa karena data yang tidak kesort."
      ]
    },
    {
      "cell_type": "code",
      "metadata": {
        "id": "VZT-mM_7_0Qs"
      },
      "source": [
        "temp = []\n",
        "for i in sort_x:\n",
        "  temp.append(i[0])\n",
        "y_pred1 = lr.predict(sort_x)"
      ],
      "execution_count": null,
      "outputs": []
    },
    {
      "cell_type": "markdown",
      "metadata": {
        "id": "lRYCDAKXULCg"
      },
      "source": [
        "Temp ini berfungsi untuk menyimpan 1 column pada bagian xnya yaitu column Age karena memiliki corelasi paling besar dengan column target. Sedangkan untuk y_pred bertujuan untuk menyimpan nilai dari hasil prediksi dengan x yang sudah ke sort."
      ]
    },
    {
      "cell_type": "code",
      "metadata": {
        "id": "XhRQv_bB482p",
        "colab": {
          "base_uri": "https://localhost:8080/"
        },
        "outputId": "7ea1c0d7-c4ec-46b6-b169-af43ca8232bc"
      },
      "source": [
        "Coef = np.corrcoef(x_train, x_test)\n",
        "MSE = mean_squared_error(y_test, y_pred)\n",
        "MAE = mean_absolute_error(y_test, y_pred)\n",
        "RMSE = math.sqrt(MSE)\n",
        "print(f'Coefficient :\\n {Coef}')\n",
        "print(f'MSE : {MSE:.2f}')\n",
        "print(f'MAE : {MAE:.2f}')\n",
        "print(f'RMSE : {RMSE:.2f}')"
      ],
      "execution_count": null,
      "outputs": [
        {
          "output_type": "stream",
          "text": [
            "Coefficient :\n",
            " [[ 1. -1. -1. ...  1. -1. -1.]\n",
            " [-1.  1.  1. ... -1.  1.  1.]\n",
            " [-1.  1.  1. ... -1.  1.  1.]\n",
            " ...\n",
            " [ 1. -1. -1. ...  1. -1. -1.]\n",
            " [-1.  1.  1. ... -1.  1.  1.]\n",
            " [-1.  1.  1. ... -1.  1.  1.]]\n",
            "MSE : 585.20\n",
            "MAE : 19.88\n",
            "RMSE : 24.19\n"
          ],
          "name": "stdout"
        }
      ]
    },
    {
      "cell_type": "code",
      "metadata": {
        "colab": {
          "base_uri": "https://localhost:8080/",
          "height": 294
        },
        "id": "LwUCaXb84nfR",
        "outputId": "4217b092-9861-4eff-c837-760271218cec"
      },
      "source": [
        "plt.scatter(y_test, y_pred, color = 'red')\n",
        "plt.plot(temp, y_pred1, color ='blue')\n",
        "plt.title('Predicted vs Actual')\n",
        "plt.xlabel('Actual')\n",
        "plt.ylabel('Predicted')\n",
        "plt.show()"
      ],
      "execution_count": null,
      "outputs": [
        {
          "output_type": "display_data",
          "data": {
            "image/png": "[encoded data removed]",
            "text/plain": [
              "<Figure size 432x288 with 1 Axes>"
            ]
          },
          "metadata": {
            "tags": [],
            "needs_background": "light"
          }
        }
      ]
    }
  ]
}