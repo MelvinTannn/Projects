{
  "nbformat": 4,
  "nbformat_minor": 0,
  "metadata": {
    "colab": {
      "name": "Jawaban Nomor 3 UTS ANN - Melvin - 2301863263",
      "provenance": [],
      "collapsed_sections": []
    },
    "kernelspec": {
      "name": "python3",
      "display_name": "Python 3"
    },
    "language_info": {
      "name": "python"
    }
  },
  "cells": [
    {
      "cell_type": "code",
      "metadata": {
        "id": "-7UbcnVGrryT",
        "colab": {
          "base_uri": "https://localhost:8080/"
        },
        "outputId": "cda415cf-b1d4-40d7-daaa-35d66dbbf07a"
      },
      "source": [
        "#!pip install --upgrade tensorflow==1.15"
      ],
      "execution_count": 1,
      "outputs": [
        {
          "output_type": "stream",
          "name": "stdout",
          "text": [
            "Collecting tensorflow==1.15\n",
            "  Downloading tensorflow-1.15.0-cp37-cp37m-manylinux2010_x86_64.whl (412.3 MB)\n",
            "\u001b[K     |████████████████████████████████| 412.3 MB 19 kB/s \n",
            "\u001b[?25hRequirement already satisfied: six>=1.10.0 in /usr/local/lib/python3.7/dist-packages (from tensorflow==1.15) (1.15.0)\n",
            "Collecting tensorflow-estimator==1.15.1\n",
            "  Downloading tensorflow_estimator-1.15.1-py2.py3-none-any.whl (503 kB)\n",
            "\u001b[K     |████████████████████████████████| 503 kB 62.9 MB/s \n",
            "\u001b[?25hRequirement already satisfied: numpy<2.0,>=1.16.0 in /usr/local/lib/python3.7/dist-packages (from tensorflow==1.15) (1.19.5)\n",
            "Collecting tensorboard<1.16.0,>=1.15.0\n",
            "  Downloading tensorboard-1.15.0-py3-none-any.whl (3.8 MB)\n",
            "\u001b[K     |████████████████████████████████| 3.8 MB 17.8 MB/s \n",
            "\u001b[?25hRequirement already satisfied: wheel>=0.26 in /usr/local/lib/python3.7/dist-packages (from tensorflow==1.15) (0.37.0)\n",
            "Requirement already satisfied: opt-einsum>=2.3.2 in /usr/local/lib/python3.7/dist-packages (from tensorflow==1.15) (3.3.0)\n",
            "Requirement already satisfied: astor>=0.6.0 in /usr/local/lib/python3.7/dist-packages (from tensorflow==1.15) (0.8.1)\n",
            "Collecting keras-applications>=1.0.8\n",
            "  Downloading Keras_Applications-1.0.8-py3-none-any.whl (50 kB)\n",
            "\u001b[K     |████████████████████████████████| 50 kB 5.2 MB/s \n",
            "\u001b[?25hRequirement already satisfied: google-pasta>=0.1.6 in /usr/local/lib/python3.7/dist-packages (from tensorflow==1.15) (0.2.0)\n",
            "Requirement already satisfied: wrapt>=1.11.1 in /usr/local/lib/python3.7/dist-packages (from tensorflow==1.15) (1.12.1)\n",
            "Requirement already satisfied: grpcio>=1.8.6 in /usr/local/lib/python3.7/dist-packages (from tensorflow==1.15) (1.41.0)\n",
            "Requirement already satisfied: keras-preprocessing>=1.0.5 in /usr/local/lib/python3.7/dist-packages (from tensorflow==1.15) (1.1.2)\n",
            "Requirement already satisfied: protobuf>=3.6.1 in /usr/local/lib/python3.7/dist-packages (from tensorflow==1.15) (3.17.3)\n",
            "Requirement already satisfied: absl-py>=0.7.0 in /usr/local/lib/python3.7/dist-packages (from tensorflow==1.15) (0.12.0)\n",
            "Collecting gast==0.2.2\n",
            "  Downloading gast-0.2.2.tar.gz (10 kB)\n",
            "Requirement already satisfied: termcolor>=1.1.0 in /usr/local/lib/python3.7/dist-packages (from tensorflow==1.15) (1.1.0)\n",
            "Requirement already satisfied: h5py in /usr/local/lib/python3.7/dist-packages (from keras-applications>=1.0.8->tensorflow==1.15) (3.1.0)\n",
            "Requirement already satisfied: markdown>=2.6.8 in /usr/local/lib/python3.7/dist-packages (from tensorboard<1.16.0,>=1.15.0->tensorflow==1.15) (3.3.4)\n",
            "Requirement already satisfied: setuptools>=41.0.0 in /usr/local/lib/python3.7/dist-packages (from tensorboard<1.16.0,>=1.15.0->tensorflow==1.15) (57.4.0)\n",
            "Requirement already satisfied: werkzeug>=0.11.15 in /usr/local/lib/python3.7/dist-packages (from tensorboard<1.16.0,>=1.15.0->tensorflow==1.15) (1.0.1)\n",
            "Requirement already satisfied: importlib-metadata in /usr/local/lib/python3.7/dist-packages (from markdown>=2.6.8->tensorboard<1.16.0,>=1.15.0->tensorflow==1.15) (4.8.1)\n",
            "Requirement already satisfied: cached-property in /usr/local/lib/python3.7/dist-packages (from h5py->keras-applications>=1.0.8->tensorflow==1.15) (1.5.2)\n",
            "Requirement already satisfied: zipp>=0.5 in /usr/local/lib/python3.7/dist-packages (from importlib-metadata->markdown>=2.6.8->tensorboard<1.16.0,>=1.15.0->tensorflow==1.15) (3.6.0)\n",
            "Requirement already satisfied: typing-extensions>=3.6.4 in /usr/local/lib/python3.7/dist-packages (from importlib-metadata->markdown>=2.6.8->tensorboard<1.16.0,>=1.15.0->tensorflow==1.15) (3.7.4.3)\n",
            "Building wheels for collected packages: gast\n",
            "  Building wheel for gast (setup.py) ... \u001b[?25l\u001b[?25hdone\n",
            "  Created wheel for gast: filename=gast-0.2.2-py3-none-any.whl size=7554 sha256=d3a0eaedb1101dd77cd78fb042c55015a97c0e947283014ab365433b5d9ccd63\n",
            "  Stored in directory: /root/.cache/pip/wheels/21/7f/02/420f32a803f7d0967b48dd823da3f558c5166991bfd204eef3\n",
            "Successfully built gast\n",
            "Installing collected packages: tensorflow-estimator, tensorboard, keras-applications, gast, tensorflow\n",
            "  Attempting uninstall: tensorflow-estimator\n",
            "    Found existing installation: tensorflow-estimator 2.6.0\n",
            "    Uninstalling tensorflow-estimator-2.6.0:\n",
            "      Successfully uninstalled tensorflow-estimator-2.6.0\n",
            "  Attempting uninstall: tensorboard\n",
            "    Found existing installation: tensorboard 2.6.0\n",
            "    Uninstalling tensorboard-2.6.0:\n",
            "      Successfully uninstalled tensorboard-2.6.0\n",
            "  Attempting uninstall: gast\n",
            "    Found existing installation: gast 0.4.0\n",
            "    Uninstalling gast-0.4.0:\n",
            "      Successfully uninstalled gast-0.4.0\n",
            "  Attempting uninstall: tensorflow\n",
            "    Found existing installation: tensorflow 2.6.0\n",
            "    Uninstalling tensorflow-2.6.0:\n",
            "      Successfully uninstalled tensorflow-2.6.0\n",
            "\u001b[31mERROR: pip's dependency resolver does not currently take into account all the packages that are installed. This behaviour is the source of the following dependency conflicts.\n",
            "tensorflow-probability 0.14.1 requires gast>=0.3.2, but you have gast 0.2.2 which is incompatible.\n",
            "kapre 0.3.5 requires tensorflow>=2.0.0, but you have tensorflow 1.15.0 which is incompatible.\u001b[0m\n",
            "Successfully installed gast-0.2.2 keras-applications-1.0.8 tensorboard-1.15.0 tensorflow-1.15.0 tensorflow-estimator-1.15.1\n"
          ]
        }
      ]
    },
    {
      "cell_type": "code",
      "metadata": {
        "id": "AiPJcdmpsOY6"
      },
      "source": [
        "from sklearn.datasets import load_digits\n",
        "df = load_digits()"
      ],
      "execution_count": 2,
      "outputs": []
    },
    {
      "cell_type": "code",
      "metadata": {
        "id": "jHoXnw4KsP8Y"
      },
      "source": [
        "#Import all the library needed\n",
        "import tensorflow as tf\n",
        "import pandas as pd\n",
        "import numpy as np\n",
        "from sklearn.model_selection import train_test_split\n",
        "from sklearn.preprocessing import OneHotEncoder\n"
      ],
      "execution_count": 3,
      "outputs": []
    },
    {
      "cell_type": "code",
      "metadata": {
        "id": "uqsFj1xjtuZf"
      },
      "source": [
        "# SPIT DATASET\n",
        "from sklearn.model_selection import train_test_split\n",
        "x_train, x_test, y_train, y_test = train_test_split(df.data, df.target, test_size = 0.2, random_state=1)\n",
        "\n",
        "x_train, x_test = x_train.astype('float32'), x_test.astype('float32')\n",
        "y_train, y_test = y_train.astype('float32'), y_test.astype('float32')\n",
        "y_train = y_train.reshape(-1,1)\n",
        "y_test = y_test.reshape(-1,1)\n",
        "\n",
        "encoder = OneHotEncoder().fit(y_train)\n",
        "y_train = encoder.transform(y_train).toarray()\n",
        "y_test = encoder.transform(y_test).toarray()"
      ],
      "execution_count": 4,
      "outputs": []
    },
    {
      "cell_type": "code",
      "metadata": {
        "id": "hIoc70ovwXk4"
      },
      "source": [
        "#Variables\n",
        "EPOCH = 1000\n",
        "ALPHA = 0.1\n",
        "n_features = x_train.shape[1]\n",
        "n_classes = y_train.shape[1]"
      ],
      "execution_count": 5,
      "outputs": []
    },
    {
      "cell_type": "code",
      "metadata": {
        "id": "2KubzKiCwaN9"
      },
      "source": [
        "# Menentukan jumlah features dan class\n",
        "input_tensor = tf.placeholder(tf.float32)\n",
        "label_tensor = tf.placeholder(tf.float32)"
      ],
      "execution_count": 6,
      "outputs": []
    },
    {
      "cell_type": "code",
      "metadata": {
        "id": "QaHWBvQFsuD7"
      },
      "source": [
        "# Mendefine jumlah hiddenlayer dan output (jumlah hidden 8 & 8 sedangkan outputnya 10)\n",
        "neurons = [8, 8, n_classes]\n",
        "n_layers = len(neurons)"
      ],
      "execution_count": 7,
      "outputs": []
    },
    {
      "cell_type": "code",
      "metadata": {
        "id": "pd8enxFtv1hd"
      },
      "source": [
        "parameters = {}\n",
        "for i in range(n_layers):\n",
        "  parameters[f'W{i+1}'] = tf.Variable(\n",
        "      tf.random.normal([\n",
        "          n_features if (i == 0) else neurons[i-1], neurons[i]\n",
        "      ]),\n",
        "      tf.float32\n",
        "  )\n",
        "\n",
        "  parameters[f'B{i+1}'] = tf.Variable(\n",
        "      tf.random.normal(\n",
        "          [1, neurons[i]]\n",
        "      ),\n",
        "      tf.float32\n",
        "  )"
      ],
      "execution_count": 8,
      "outputs": []
    },
    {
      "cell_type": "code",
      "metadata": {
        "id": "OMI0HwUDuAR_"
      },
      "source": [
        "#Feed Forward Function\n",
        "def forward():\n",
        "    a = input_tensor\n",
        "    for i in range(n_layers):\n",
        "      w = parameters[f'W{i+1}']\n",
        "      b = parameters[f'B{i+1}']\n",
        "\n",
        "      z = tf.matmul(a, w) + b\n",
        "      if i == n_layers - 1:\n",
        "        a = tf.nn.softmax(z)\n",
        "      else:\n",
        "        a = tf.nn.tanh(z)\n",
        "    return a"
      ],
      "execution_count": 9,
      "outputs": []
    },
    {
      "cell_type": "code",
      "metadata": {
        "id": "7DcgzaIf236G"
      },
      "source": [
        "#Mencari nilai predict dari hasil\n",
        "y_predict = forward()"
      ],
      "execution_count": 10,
      "outputs": []
    },
    {
      "cell_type": "code",
      "metadata": {
        "colab": {
          "base_uri": "https://localhost:8080/"
        },
        "id": "u_MZL20CuOGK",
        "outputId": "d48ca0af-a99f-4642-cc9a-d24a29878e75"
      },
      "source": [
        "with tf.Session() as sess:\n",
        "  logits_tensor = forward()\n",
        "  loss_tensor = tf.reduce_mean(0.5 * (label_tensor - logits_tensor) ** 2)\n",
        "\n",
        "  true_preds_tensor = tf.equal(\n",
        "      tf.argmax(logits_tensor, axis=1), tf.argmax(label_tensor, axis=1))\n",
        "  acc_tensor = tf.reduce_mean(tf.cast(true_preds_tensor, tf.float32))\n",
        "\n",
        "  optimizer = tf.train.AdamOptimizer(ALPHA).minimize(loss_tensor)\n",
        "\n",
        "  sess.run(tf.global_variables_initializer())\n",
        "\n",
        "  for i in range(EPOCH):\n",
        "    sess.run(optimizer, feed_dict={\n",
        "        input_tensor:x_train,\n",
        "        label_tensor:y_train\n",
        "    })\n",
        "    loss = sess.run(loss_tensor, feed_dict={\n",
        "        input_tensor:x_train,\n",
        "        label_tensor:y_train\n",
        "    })\n",
        "    acc = sess.run(acc_tensor, feed_dict={\n",
        "        input_tensor:x_train,\n",
        "        label_tensor:y_train\n",
        "    })\n",
        "    val_loss = sess.run(loss_tensor, feed_dict={\n",
        "        input_tensor:x_test,\n",
        "        label_tensor:y_test\n",
        "    })\n",
        "    val_acc = sess.run(acc_tensor, feed_dict={\n",
        "        input_tensor:x_test,\n",
        "        label_tensor:y_test\n",
        "    })\n",
        "    if i % 100 == 0:\n",
        "      print(f'Epoch {i+1} - Loss {loss:.4f} - Accuracy {(acc*100):.2f} % - Val Loss {val_loss:.4f} - Val Accuracy {(val_acc * 100):.2f} %')\n",
        "    y_pred=sess.run(y_predict, feed_dict={\n",
        "            input_tensor: x_train,\n",
        "            label_tensor: y_train\n",
        "        })\n",
        "    y_true = np.argmax(y_train,1)\n",
        "    y_preds = np.argmax(y_pred,1)"
      ],
      "execution_count": 11,
      "outputs": [
        {
          "output_type": "stream",
          "name": "stdout",
          "text": [
            "WARNING:tensorflow:From /usr/local/lib/python3.7/dist-packages/tensorflow_core/python/ops/math_grad.py:1375: where (from tensorflow.python.ops.array_ops) is deprecated and will be removed in a future version.\n",
            "Instructions for updating:\n",
            "Use tf.where in 2.0, which has the same broadcast rule as np.where\n",
            "Epoch 1 - Loss 0.0644 - Accuracy 13.57 % - Val Loss 0.0628 - Val Accuracy 13.89 %\n",
            "Epoch 101 - Loss 0.0250 - Accuracy 56.85 % - Val Loss 0.0255 - Val Accuracy 52.78 %\n",
            "Epoch 201 - Loss 0.0206 - Accuracy 64.65 % - Val Loss 0.0235 - Val Accuracy 61.39 %\n",
            "Epoch 301 - Loss 0.0191 - Accuracy 66.39 % - Val Loss 0.0221 - Val Accuracy 63.33 %\n",
            "Epoch 401 - Loss 0.0187 - Accuracy 66.67 % - Val Loss 0.0224 - Val Accuracy 62.22 %\n",
            "Epoch 501 - Loss 0.0195 - Accuracy 65.76 % - Val Loss 0.0235 - Val Accuracy 59.72 %\n",
            "Epoch 601 - Loss 0.0186 - Accuracy 66.95 % - Val Loss 0.0217 - Val Accuracy 63.61 %\n",
            "Epoch 701 - Loss 0.0185 - Accuracy 67.15 % - Val Loss 0.0214 - Val Accuracy 63.61 %\n",
            "Epoch 801 - Loss 0.0181 - Accuracy 67.85 % - Val Loss 0.0221 - Val Accuracy 63.33 %\n",
            "Epoch 901 - Loss 0.0195 - Accuracy 65.83 % - Val Loss 0.0226 - Val Accuracy 60.28 %\n"
          ]
        }
      ]
    },
    {
      "cell_type": "code",
      "metadata": {
        "colab": {
          "base_uri": "https://localhost:8080/",
          "height": 526
        },
        "id": "5jTdXmRsxZi4",
        "outputId": "a900051b-79bc-4e21-d083-3df7eab11e92"
      },
      "source": [
        "#Membuat confusion matrix\n",
        "import matplotlib.pyplot as plt\n",
        "import seaborn as sns\n",
        "from sklearn import metrics\n",
        "\n",
        "cm = metrics.confusion_matrix(y_true, y_preds)\n",
        "\n",
        "plt.figure(figsize=(9,9))\n",
        "sns.heatmap(cm, annot=True, fmt=\".3f\", linewidths=.5, square = True, cmap = 'Pastel1');\n",
        "plt.ylabel('Actual label');\n",
        "plt.xlabel('Predicted label');\n",
        "all_sample_title = 'Confusion Matrix'\n",
        "plt.title(all_sample_title, size = 15);"
      ],
      "execution_count": 12,
      "outputs": [
        {
          "output_type": "display_data",
          "data": {
            "image/png": "[encoded data removed]",
            "text/plain": [
              "<Figure size 648x648 with 2 Axes>"
            ]
          },
          "metadata": {
            "needs_background": "light"
          }
        }
      ]
    },
    {
      "cell_type": "markdown",
      "metadata": {
        "id": "bYp1h2_W9p9a"
      },
      "source": [
        "Dari hasil confusion matrix diatas dapat dilihat bahwa model paling sedikit salah memprediksi pada kelas 5 dimana pada kelas tersebut model berhasil memprediksi atau mengklasifikasi dengan benar sebanyak 139 kali dan salah mengklasifikasi hanya sebanyak 4 kali."
      ]
    }
  ]
}