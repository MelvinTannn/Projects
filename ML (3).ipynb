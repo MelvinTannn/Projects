{
  "nbformat": 4,
  "nbformat_minor": 0,
  "metadata": {
    "colab": {
      "name": "UAS ML NOMOR 4 - MELVIN - 2301863263.ipynb",
      "provenance": [],
      "collapsed_sections": []
    },
    "kernelspec": {
      "name": "python3",
      "display_name": "Python 3"
    },
    "language_info": {
      "name": "python"
    }
  },
  "cells": [
    {
      "cell_type": "code",
      "metadata": {
        "id": "bY7f2niB4hpf"
      },
      "source": [
        "#Import all Library needed\n",
        "import pandas as pd\n",
        "import numpy as np\n",
        "import math\n",
        "from sklearn.model_selection import train_test_split\n",
        "from sklearn.preprocessing import StandardScaler\n",
        "import seaborn as sn\n",
        "import matplotlib.pyplot as plt\n",
        "from random import seed\n",
        "from random import randrange\n",
        "from csv import reader\n",
        "from math import exp\n",
        "from sklearn.metrics import accuracy_score\n",
        "from sklearn.metrics import precision_score\n",
        "from sklearn.metrics import recall_score"
      ],
      "execution_count": null,
      "outputs": []
    },
    {
      "cell_type": "code",
      "metadata": {
        "colab": {
          "base_uri": "https://localhost:8080/"
        },
        "id": "-SbAzH3z97Z8",
        "outputId": "5b4a1d1b-a939-49fc-98c5-a2a4435b7dec"
      },
      "source": [
        "import pandas as pd\n",
        "candidates = {'gmat': [780,750,690,710,680,730,690,720,740,690,610,690,710,680,770,610,580,650,540,590,620,600,550,550,570,670,660,580,650,660,640,620,660,660,680,650,670,580,590,690],\n",
        "              'gpa': [4,3.9,3.3,3.7,3.9,3.7,2.3,3.3,3.3,1.7,2.7,3.7,3.7,3.3,3.3,3,2.7,3.7,2.7,2.3,3.3,2,2.3,2.7,3,3.3,3.7,2.3,3.7,3.3,3,2.7,4,3.3,3.3,2.3,2.7,3.3,1.7,3.7],\n",
        "              'work_experience': [3,4,3,5,4,6,1,4,5,1,3,5,6,4,3,1,4,6,2,3,2,1,4,1,2,6,4,2,6,5,1,2,4,6,5,1,2,1,4,5],\n",
        "              'admitted': [1,1,0,1,0,1,0,1,1,0,0,1,1,0,1,0,0,1,0,0,1,0,0,0,0,1,1,0,1,1,0,0,1,1,1,0,0,0,0,1]\n",
        "              }\n",
        "\n",
        "df = pd.DataFrame(candidates,columns= ['gmat', 'gpa','work_experience','admitted'])\n",
        "X = df[['gmat', 'gpa','work_experience']]\n",
        "y = df['admitted']\n",
        "print (df)"
      ],
      "execution_count": null,
      "outputs": [
        {
          "output_type": "stream",
          "text": [
            "    gmat  gpa  work_experience  admitted\n",
            "0    780  4.0                3         1\n",
            "1    750  3.9                4         1\n",
            "2    690  3.3                3         0\n",
            "3    710  3.7                5         1\n",
            "4    680  3.9                4         0\n",
            "5    730  3.7                6         1\n",
            "6    690  2.3                1         0\n",
            "7    720  3.3                4         1\n",
            "8    740  3.3                5         1\n",
            "9    690  1.7                1         0\n",
            "10   610  2.7                3         0\n",
            "11   690  3.7                5         1\n",
            "12   710  3.7                6         1\n",
            "13   680  3.3                4         0\n",
            "14   770  3.3                3         1\n",
            "15   610  3.0                1         0\n",
            "16   580  2.7                4         0\n",
            "17   650  3.7                6         1\n",
            "18   540  2.7                2         0\n",
            "19   590  2.3                3         0\n",
            "20   620  3.3                2         1\n",
            "21   600  2.0                1         0\n",
            "22   550  2.3                4         0\n",
            "23   550  2.7                1         0\n",
            "24   570  3.0                2         0\n",
            "25   670  3.3                6         1\n",
            "26   660  3.7                4         1\n",
            "27   580  2.3                2         0\n",
            "28   650  3.7                6         1\n",
            "29   660  3.3                5         1\n",
            "30   640  3.0                1         0\n",
            "31   620  2.7                2         0\n",
            "32   660  4.0                4         1\n",
            "33   660  3.3                6         1\n",
            "34   680  3.3                5         1\n",
            "35   650  2.3                1         0\n",
            "36   670  2.7                2         0\n",
            "37   580  3.3                1         0\n",
            "38   590  1.7                4         0\n",
            "39   690  3.7                5         1\n"
          ],
          "name": "stdout"
        }
      ]
    },
    {
      "cell_type": "markdown",
      "metadata": {
        "id": "6OiOxefNRjCX"
      },
      "source": [
        "Diatas semua data dari soal nomor 4 dimasukkan ke dalam dataframe dan dibagi menjadi 2 dimana featurenya dimasukkan ke variable X dan labelnya atau classnya dimasukkan ke dalam variable y."
      ]
    },
    {
      "cell_type": "code",
      "metadata": {
        "id": "xG-qF7pTDppu"
      },
      "source": [
        "X = StandardScaler().fit_transform(X)"
      ],
      "execution_count": null,
      "outputs": []
    },
    {
      "cell_type": "markdown",
      "metadata": {
        "id": "heauaNKyRxVc"
      },
      "source": [
        "Lalu dilakukan Standard Scaler pada variable featurenya atau X"
      ]
    },
    {
      "cell_type": "code",
      "metadata": {
        "id": "vEBwVoBK_Kq9"
      },
      "source": [
        "x_train, x_test, y_train, y_test = train_test_split(X, y, test_size=0.2, random_state=1)"
      ],
      "execution_count": null,
      "outputs": []
    },
    {
      "cell_type": "markdown",
      "metadata": {
        "id": "wOcmNLZgR2m3"
      },
      "source": [
        "Setelah itu dataset dibagi menjadi 2 dengan ratio 80:20 dimana 80 sebagai training set dan 20 sebagai test set, dengan random state yaitu 1."
      ]
    },
    {
      "cell_type": "code",
      "metadata": {
        "id": "2-ZmgdnY-frz"
      },
      "source": [
        "class LogisticRegression:\n",
        "    def __init__(self, lr=0.01, num_iter=100000, fit_intercept=True, verbose=False):\n",
        "        self.lr = lr\n",
        "        self.num_iter = num_iter\n",
        "        self.fit_intercept = fit_intercept\n",
        "        self.verbose = verbose\n",
        "    \n",
        "    def __add_intercept(self, X):\n",
        "        intercept = np.ones((X.shape[0], 1))\n",
        "        return np.concatenate((intercept, X), axis=1)\n",
        "    \n",
        "    def __sigmoid(self, z):\n",
        "        return 1 / (1 + np.exp(-z))\n",
        "    def __loss(self, h, y):\n",
        "        return (-y * np.log(h) - (1 - y) * np.log(1 - h)).mean()\n",
        "    \n",
        "    def fit(self, X, y):\n",
        "        if self.fit_intercept:\n",
        "            X = self.__add_intercept(X)\n",
        "        \n",
        "        # weights initialization\n",
        "        self.theta = np.zeros(X.shape[1])\n",
        "        \n",
        "        for i in range(self.num_iter):\n",
        "            z = np.dot(X, self.theta)\n",
        "            h = self.__sigmoid(z)\n",
        "            gradient = np.dot(X.T, (h - y)) / y.size\n",
        "            self.theta -= self.lr * gradient\n",
        "            \n",
        "            if(self.verbose == True and i % 10000 == 0):\n",
        "                z = np.dot(X, self.theta)\n",
        "                h = self.__sigmoid(z)\n",
        "                print(f'loss: {self.__loss(h, y)} \\t')\n",
        "    \n",
        "    def predict_prob(self, X):\n",
        "        if self.fit_intercept:\n",
        "            X = self.__add_intercept(X)\n",
        "    \n",
        "        return self.__sigmoid(np.dot(X, self.theta))\n",
        "    \n",
        "    def predict(self, X, threshold):\n",
        "        return self.predict_prob(X) >= threshold"
      ],
      "execution_count": null,
      "outputs": []
    },
    {
      "cell_type": "markdown",
      "metadata": {
        "id": "7YOqdNhRSBWC"
      },
      "source": [
        "Lalu di define function model yaitu logistic regression dengan membuat function sigmoid, loss untuk menghitung jumlah error, dan function fit untuk memasukkan dataset nantinya ke dalam model , lalu fucntion predict untuk memprediksi hasil akurasi nantinya dari model."
      ]
    },
    {
      "cell_type": "code",
      "metadata": {
        "id": "0UwC18Ez_fuF"
      },
      "source": [
        "model = LogisticRegression(0.4, num_iter= 5000)\n",
        "model.fit(x_train, y_train)\n",
        "\n",
        "y_pred = model.predict(x_test, 0.4)"
      ],
      "execution_count": null,
      "outputs": []
    },
    {
      "cell_type": "markdown",
      "metadata": {
        "id": "N8pc07VcSWlQ"
      },
      "source": [
        "Setelah function sudah jadi dan siap untuk digunakan dataset training dimasukkan ke dalam model dengan jumlah iterasi sebanyak 5000 dan learning rate sebesar 0.4."
      ]
    },
    {
      "cell_type": "code",
      "metadata": {
        "id": "qixj4MQuBryy",
        "colab": {
          "base_uri": "https://localhost:8080/",
          "height": 301
        },
        "outputId": "fd796756-9fd9-470d-8c99-06f0cbab397e"
      },
      "source": [
        "confusion_matrix = pd.crosstab(y_test, y_pred, rownames=['Actual'], colnames=['Predicted'])\n",
        "sn.heatmap(confusion_matrix, annot=True, cmap = 'Blues_r')"
      ],
      "execution_count": null,
      "outputs": [
        {
          "output_type": "execute_result",
          "data": {
            "text/plain": [
              "<matplotlib.axes._subplots.AxesSubplot at 0x7f766c177410>"
            ]
          },
          "metadata": {
            "tags": []
          },
          "execution_count": 7
        },
        {
          "output_type": "display_data",
          "data": {
            "image/png": "[encoded data removed]",
            "text/plain": [
              "<Figure size 432x288 with 2 Axes>"
            ]
          },
          "metadata": {
            "tags": [],
            "needs_background": "light"
          }
        }
      ]
    },
    {
      "cell_type": "markdown",
      "metadata": {
        "id": "WU3_dk1_SiaS"
      },
      "source": [
        "Setelah itu dilakukan evaluasi hasil dari model yang ditraining dengan menggunakan confusion matrix untuk mengetahui berapa kali model berhasil menebak dengan benar/salah per class atau labelnya."
      ]
    },
    {
      "cell_type": "code",
      "metadata": {
        "colab": {
          "base_uri": "https://localhost:8080/"
        },
        "id": "kDDO3gTXBbMe",
        "outputId": "342e015f-a7f5-4c35-da91-c1666fb70cad"
      },
      "source": [
        "print('Accuracy', accuracy_score(y_test, y_pred))"
      ],
      "execution_count": null,
      "outputs": [
        {
          "output_type": "stream",
          "text": [
            "Accuracy 0.875\n"
          ],
          "name": "stdout"
        }
      ]
    },
    {
      "cell_type": "markdown",
      "metadata": {
        "id": "111FIGZKSt6m"
      },
      "source": [
        "Lalu dilakukan evaluasi model akhir dengan mencari akurasi dari model tersebut dengan membandingkan y_test atau dengan y_pred."
      ]
    }
  ]
}