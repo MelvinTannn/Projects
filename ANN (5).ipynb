{
  "nbformat": 4,
  "nbformat_minor": 0,
  "metadata": {
    "colab": {
      "name": "Jawaban 1b UTS - ANN - Melvin - 2301863263.ipynb",
      "provenance": []
    },
    "kernelspec": {
      "name": "python3",
      "display_name": "Python 3"
    },
    "language_info": {
      "name": "python"
    }
  },
  "cells": [
    {
      "cell_type": "code",
      "metadata": {
        "id": "jPX-GbfuG6HM"
      },
      "source": [
        "#!pip install --upgrade tensorflow==1.15"
      ],
      "execution_count": null,
      "outputs": []
    },
    {
      "cell_type": "code",
      "metadata": {
        "id": "35C7iukqHA7k"
      },
      "source": [
        "from sklearn.datasets import make_classification\n",
        "from sklearn.svm import SVC\n",
        "from sklearn.multiclass import OneVsOneClassifier\n"
      ],
      "execution_count": null,
      "outputs": []
    },
    {
      "cell_type": "code",
      "metadata": {
        "id": "JUoeT6Q9JfGl"
      },
      "source": [
        "from sklearn.datasets import load_digits\n",
        "df = load_digits()"
      ],
      "execution_count": null,
      "outputs": []
    },
    {
      "cell_type": "code",
      "metadata": {
        "id": "e98a_LqiJxUU"
      },
      "source": [
        "from sklearn.model_selection import train_test_split\n",
        "x_train, x_test, y_train, y_test = train_test_split(df.data, df.target, test_size = 0.2, random_state = 1)"
      ],
      "execution_count": null,
      "outputs": []
    },
    {
      "cell_type": "code",
      "metadata": {
        "id": "bWuMJf2aIN8-"
      },
      "source": [
        "# Mendeklarasikan model dengan menggunakan SVC model\n",
        "model = SVC()"
      ],
      "execution_count": null,
      "outputs": []
    },
    {
      "cell_type": "code",
      "metadata": {
        "id": "Z6EX-giLIRg0"
      },
      "source": [
        "# Menentukan classifier untuk modelnya yaitu dengan menggunakan OvO (One vs One)\n",
        "ovo = OneVsOneClassifier(model)"
      ],
      "execution_count": null,
      "outputs": []
    },
    {
      "cell_type": "code",
      "metadata": {
        "colab": {
          "base_uri": "https://localhost:8080/"
        },
        "id": "w5SVNKELIUci",
        "outputId": "5b1da7ef-251f-419c-d8b4-0b864278480c"
      },
      "source": [
        "ovo.fit(x_train,y_train)"
      ],
      "execution_count": null,
      "outputs": [
        {
          "output_type": "execute_result",
          "data": {
            "text/plain": [
              "OneVsOneClassifier(estimator=SVC(C=1.0, break_ties=False, cache_size=200,\n",
              "                                 class_weight=None, coef0=0.0,\n",
              "                                 decision_function_shape='ovr', degree=3,\n",
              "                                 gamma='scale', kernel='rbf', max_iter=-1,\n",
              "                                 probability=False, random_state=None,\n",
              "                                 shrinking=True, tol=0.001, verbose=False),\n",
              "                   n_jobs=None)"
            ]
          },
          "metadata": {
            "tags": []
          },
          "execution_count": 7
        }
      ]
    },
    {
      "cell_type": "code",
      "metadata": {
        "id": "53cWf_BgIaZ_"
      },
      "source": [
        "preds = ovo.predict(x_test)"
      ],
      "execution_count": null,
      "outputs": []
    },
    {
      "cell_type": "code",
      "metadata": {
        "colab": {
          "base_uri": "https://localhost:8080/"
        },
        "id": "qPnHTlDpIh4Y",
        "outputId": "6dd30aa9-4eed-42b1-d07b-6d8f4cfcd17a"
      },
      "source": [
        "accuracy = ovo.score(x_train,y_train)\n",
        "print(accuracy)"
      ],
      "execution_count": null,
      "outputs": [
        {
          "output_type": "stream",
          "text": [
            "0.9958246346555324\n"
          ],
          "name": "stdout"
        }
      ]
    },
    {
      "cell_type": "code",
      "metadata": {
        "colab": {
          "base_uri": "https://localhost:8080/"
        },
        "id": "_8qtdIXoKRSc",
        "outputId": "42a319d6-8246-48b7-8f09-4f41f5295012"
      },
      "source": [
        "from sklearn import metrics\n",
        "print(f'{metrics.classification_report(y_test, preds)}\\n')"
      ],
      "execution_count": null,
      "outputs": [
        {
          "output_type": "stream",
          "text": [
            "              precision    recall  f1-score   support\n",
            "\n",
            "           0       1.00      1.00      1.00        43\n",
            "           1       1.00      1.00      1.00        35\n",
            "           2       1.00      1.00      1.00        36\n",
            "           3       1.00      1.00      1.00        41\n",
            "           4       1.00      1.00      1.00        38\n",
            "           5       0.97      1.00      0.98        30\n",
            "           6       1.00      1.00      1.00        37\n",
            "           7       1.00      0.97      0.99        37\n",
            "           8       1.00      0.97      0.98        29\n",
            "           9       0.94      0.97      0.96        34\n",
            "\n",
            "    accuracy                           0.99       360\n",
            "   macro avg       0.99      0.99      0.99       360\n",
            "weighted avg       0.99      0.99      0.99       360\n",
            "\n",
            "\n"
          ],
          "name": "stdout"
        }
      ]
    },
    {
      "cell_type": "markdown",
      "metadata": {
        "id": "v8qnkDjfKpSi"
      },
      "source": [
        "Dari hasil diatas akurasi yang didapatkan adalah 99%"
      ]
    }
  ]
}