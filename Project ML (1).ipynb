{
  "nbformat": 4,
  "nbformat_minor": 0,
  "metadata": {
    "language_info": {
      "codemirror_mode": {
        "name": "ipython",
        "version": 3
      },
      "file_extension": ".py",
      "mimetype": "text/x-python",
      "name": "python",
      "nbconvert_exporter": "python",
      "pygments_lexer": "ipython3",
      "version": "3.7.6"
    },
    "orig_nbformat": 2,
    "kernelspec": {
      "name": "python3",
      "display_name": "Python 3.7.6 64-bit ('base': conda)"
    },
    "interpreter": {
      "hash": "6d46af94c2bbce495f1e668725902fa517c90b1782bcfe2fce0dd9868df553d3"
    },
    "colab": {
      "name": "Project_machine_learning.ipynb",
      "provenance": []
    }
  },
  "cells": [
    {
      "cell_type": "code",
      "metadata": {
        "id": "xMwerI4bmBau"
      },
      "source": [
        "import pandas as pd\n",
        "import seaborn as sns\n",
        "import numpy as np\n",
        "import matplotlib.pyplot as plt\n",
        "from sklearn.model_selection import train_test_split\n",
        "from sklearn.linear_model import LogisticRegression\n",
        "from sklearn.metrics import mean_squared_error, mean_absolute_error\n",
        "from sklearn.preprocessing import StandardScaler, LabelEncoder\n",
        "from sklearn import metrics\n",
        "import math"
      ],
      "execution_count": null,
      "outputs": []
    },
    {
      "cell_type": "code",
      "metadata": {
        "colab": {
          "base_uri": "https://localhost:8080/",
          "height": 419
        },
        "id": "f4Jv9XRhmBav",
        "outputId": "cf047680-c957-4a2c-948d-e72440a692ff"
      },
      "source": [
        "# read datasets\n",
        "df_1 = pd.read_csv(\"gdp_improvement_rate.csv\")\n",
        "df_2 = pd.read_csv(\"unemployment.csv\")\n",
        "\n",
        "# merge datasets menjadi 1 dataset baru, merge berdasarkan fitur country\n",
        "df = pd.merge(df_1, df_2, on='country')\n",
        "\n",
        "# display dataset baru\n",
        "df"
      ],
      "execution_count": null,
      "outputs": [
        {
          "output_type": "execute_result",
          "data": {
            "text/html": [
              "<div>\n",
              "<style scoped>\n",
              "    .dataframe tbody tr th:only-of-type {\n",
              "        vertical-align: middle;\n",
              "    }\n",
              "\n",
              "    .dataframe tbody tr th {\n",
              "        vertical-align: top;\n",
              "    }\n",
              "\n",
              "    .dataframe thead th {\n",
              "        text-align: right;\n",
              "    }\n",
              "</style>\n",
              "<table border=\"1\" class=\"dataframe\">\n",
              "  <thead>\n",
              "    <tr style=\"text-align: right;\">\n",
              "      <th></th>\n",
              "      <th>country</th>\n",
              "      <th>growth_rate</th>\n",
              "      <th>unemployment_percentage</th>\n",
              "    </tr>\n",
              "  </thead>\n",
              "  <tbody>\n",
              "    <tr>\n",
              "      <th>0</th>\n",
              "      <td>Afghanistan</td>\n",
              "      <td>2.500</td>\n",
              "      <td>35.0</td>\n",
              "    </tr>\n",
              "    <tr>\n",
              "      <th>1</th>\n",
              "      <td>Albania</td>\n",
              "      <td>3.702</td>\n",
              "      <td>14.0</td>\n",
              "    </tr>\n",
              "    <tr>\n",
              "      <th>2</th>\n",
              "      <td>Algeria</td>\n",
              "      <td>1.457</td>\n",
              "      <td>11.7</td>\n",
              "    </tr>\n",
              "    <tr>\n",
              "      <th>3</th>\n",
              "      <td>Antigua and Barbuda</td>\n",
              "      <td>2.685</td>\n",
              "      <td>11.0</td>\n",
              "    </tr>\n",
              "    <tr>\n",
              "      <th>4</th>\n",
              "      <td>Argentina</td>\n",
              "      <td>2.464</td>\n",
              "      <td>8.1</td>\n",
              "    </tr>\n",
              "    <tr>\n",
              "      <th>...</th>\n",
              "      <td>...</td>\n",
              "      <td>...</td>\n",
              "      <td>...</td>\n",
              "    </tr>\n",
              "    <tr>\n",
              "      <th>154</th>\n",
              "      <td>Venezuela</td>\n",
              "      <td>-12.000</td>\n",
              "      <td>26.4</td>\n",
              "    </tr>\n",
              "    <tr>\n",
              "      <th>155</th>\n",
              "      <td>Vietnam</td>\n",
              "      <td>6.300</td>\n",
              "      <td>2.3</td>\n",
              "    </tr>\n",
              "    <tr>\n",
              "      <th>156</th>\n",
              "      <td>Yemen</td>\n",
              "      <td>-2.014</td>\n",
              "      <td>27.0</td>\n",
              "    </tr>\n",
              "    <tr>\n",
              "      <th>157</th>\n",
              "      <td>Zambia</td>\n",
              "      <td>3.978</td>\n",
              "      <td>15.0</td>\n",
              "    </tr>\n",
              "    <tr>\n",
              "      <th>158</th>\n",
              "      <td>Zimbabwe</td>\n",
              "      <td>2.814</td>\n",
              "      <td>95.0</td>\n",
              "    </tr>\n",
              "  </tbody>\n",
              "</table>\n",
              "<p>159 rows × 3 columns</p>\n",
              "</div>"
            ],
            "text/plain": [
              "                 country  growth_rate  unemployment_percentage\n",
              "0            Afghanistan        2.500                     35.0\n",
              "1                Albania        3.702                     14.0\n",
              "2                Algeria        1.457                     11.7\n",
              "3    Antigua and Barbuda        2.685                     11.0\n",
              "4              Argentina        2.464                      8.1\n",
              "..                   ...          ...                      ...\n",
              "154            Venezuela      -12.000                     26.4\n",
              "155              Vietnam        6.300                      2.3\n",
              "156                Yemen       -2.014                     27.0\n",
              "157               Zambia        3.978                     15.0\n",
              "158             Zimbabwe        2.814                     95.0\n",
              "\n",
              "[159 rows x 3 columns]"
            ]
          },
          "metadata": {
            "tags": []
          },
          "execution_count": 2
        }
      ]
    },
    {
      "cell_type": "code",
      "metadata": {
        "colab": {
          "base_uri": "https://localhost:8080/"
        },
        "id": "jjbSbeOpmBaw",
        "outputId": "90dbe58f-b62c-4ded-f20c-7d2f3296681e"
      },
      "source": [
        "# Check jumlah data null\n",
        "df.isnull().sum()"
      ],
      "execution_count": null,
      "outputs": [
        {
          "output_type": "execute_result",
          "data": {
            "text/plain": [
              "country                    0\n",
              "growth_rate                0\n",
              "unemployment_percentage    0\n",
              "dtype: int64"
            ]
          },
          "metadata": {
            "tags": []
          },
          "execution_count": 3
        }
      ]
    },
    {
      "cell_type": "code",
      "metadata": {
        "id": "6BFdVmI3mBax"
      },
      "source": [
        "# Selecting features\n",
        "df['country'] = LabelEncoder().fit_transform(df['country'])\n",
        "df['growth_rate'] = LabelEncoder().fit_transform(df['growth_rate'])\n",
        "df['unemployment_percentage'] = LabelEncoder().fit_transform(df['unemployment_percentage'])\n",
        "x_data = df[['country', 'growth_rate']].values\n",
        "y_data = df['unemployment_percentage'].values"
      ],
      "execution_count": null,
      "outputs": []
    },
    {
      "cell_type": "code",
      "metadata": {
        "id": "1bTHRq_GmBax"
      },
      "source": [
        "# Split dataset\n",
        "x_train, x_test, y_train, y_test = train_test_split(x_data, y_data, test_size=0.2, random_state=0)"
      ],
      "execution_count": null,
      "outputs": []
    },
    {
      "cell_type": "code",
      "metadata": {
        "id": "6lShxMMVmBax"
      },
      "source": [
        "sc = StandardScaler().fit(x_train)\n",
        "x_train = sc.fit_transform(x_train)\n",
        "x_test = sc.fit_transform(x_test)"
      ],
      "execution_count": null,
      "outputs": []
    },
    {
      "cell_type": "code",
      "metadata": {
        "colab": {
          "base_uri": "https://localhost:8080/"
        },
        "id": "P9cfwretmBay",
        "outputId": "622b6ee5-c5cd-4792-f634-fc70b907ff08"
      },
      "source": [
        "# Model development dan train data\n",
        "lr = LogisticRegression(solver='sag', C=10, random_state=42)\n",
        "lr.fit(x_train, y_train)\n",
        "y_pred = lr.predict(x_test)"
      ],
      "execution_count": null,
      "outputs": [
        {
          "output_type": "stream",
          "text": [
            "/usr/local/lib/python3.7/dist-packages/sklearn/linear_model/_sag.py:330: ConvergenceWarning: The max_iter was reached which means the coef_ did not converge\n",
            "  \"the coef_ did not converge\", ConvergenceWarning)\n"
          ],
          "name": "stderr"
        }
      ]
    },
    {
      "cell_type": "code",
      "metadata": {
        "id": "JFRCENgkmBay"
      },
      "source": [
        "y_pred = np.array(y_pred).reshape(-1, 1)\n",
        "y_test = np.array(y_test).reshape(-1, 1)\n",
        "#y_train = np.array(y_train).reshape(-1, 1)"
      ],
      "execution_count": null,
      "outputs": []
    },
    {
      "cell_type": "code",
      "metadata": {
        "colab": {
          "base_uri": "https://localhost:8080/"
        },
        "id": "8dkXYFbLmBaz",
        "outputId": "7298b57d-6f6b-4166-ee7f-985ed06d722b"
      },
      "source": [
        "accuracy = lr.score(x_train, y_train)\n",
        "print('Accuracy : ', accuracy)"
      ],
      "execution_count": null,
      "outputs": [
        {
          "output_type": "stream",
          "text": [
            "Accuracy :  0.11023622047244094\n"
          ],
          "name": "stdout"
        }
      ]
    },
    {
      "cell_type": "code",
      "metadata": {
        "colab": {
          "base_uri": "https://localhost:8080/"
        },
        "id": "F9tQ3N6fmBaz",
        "outputId": "2e8542a6-b382-40a4-9458-e390d502d9d7"
      },
      "source": [
        "# Metrics Evaluation\n",
        "MSE = mean_squared_error(y_test, y_pred)\n",
        "MAE = mean_absolute_error(y_test, y_pred)\n",
        "RMSE = mean_squared_error(y_test, y_pred, squared=False)\n",
        "\n",
        "print(f'MSE : {MSE:.2f}')\n",
        "print(f'MAE : {MAE:.2f}')\n",
        "print(f'RMSE : {RMSE:.2f}')"
      ],
      "execution_count": null,
      "outputs": [
        {
          "output_type": "stream",
          "text": [
            "MSE : 1275.12\n",
            "MAE : 28.56\n",
            "RMSE : 35.71\n"
          ],
          "name": "stdout"
        }
      ]
    },
    {
      "cell_type": "code",
      "metadata": {
        "colab": {
          "base_uri": "https://localhost:8080/",
          "height": 409
        },
        "id": "mDB-0LiumBa0",
        "outputId": "b51cbfb6-a548-460d-e24f-3b087f8772af"
      },
      "source": [
        "# Visualizing Plot Predicted Value vs Measure\n",
        "plt.figure(figsize=(6,6))\n",
        "plt.scatter(y_test, y_pred, color='red')\n",
        "p1 = max(max(y_pred), max(y_test))\n",
        "p2 = min(min(y_pred), min(y_test))\n",
        "plt.plot([p1, p2], [p1, p2], 'b-')\n",
        "plt.title('Predicted Unemployment vs GDP Rate')\n",
        "plt.xlabel('GDP Rate', fontsize=15)\n",
        "plt.ylabel('Predicted Unemployment', fontsize=15)\n",
        "plt.axis('equal')\n",
        "plt.show()"
      ],
      "execution_count": null,
      "outputs": [
        {
          "output_type": "display_data",
          "data": {
            "image/png": "[encoded data removed]",
            "text/plain": [
              "<Figure size 432x432 with 1 Axes>"
            ]
          },
          "metadata": {
            "tags": [],
            "needs_background": "light"
          }
        }
      ]
    }
  ]
}