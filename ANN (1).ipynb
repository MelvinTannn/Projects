{
  "nbformat": 4,
  "nbformat_minor": 0,
  "metadata": {
    "colab": {
      "name": "QUIZ ANN - Melvin - 2301863263.ipynb",
      "provenance": []
    },
    "kernelspec": {
      "name": "python3",
      "display_name": "Python 3"
    },
    "language_info": {
      "name": "python"
    }
  },
  "cells": [
    {
      "cell_type": "code",
      "metadata": {
        "colab": {
          "base_uri": "https://localhost:8080/"
        },
        "id": "CCxoLqKt1XBM",
        "outputId": "c5e370ce-63fc-4f65-bac7-c9704200012e"
      },
      "source": [
        "#!pip install --upgrade tensorflow==1.15"
      ],
      "execution_count": null,
      "outputs": [
        {
          "output_type": "stream",
          "text": [
            "Requirement already up-to-date: tensorflow==1.15 in /usr/local/lib/python3.7/dist-packages (1.15.0)\n",
            "Requirement already satisfied, skipping upgrade: opt-einsum>=2.3.2 in /usr/local/lib/python3.7/dist-packages (from tensorflow==1.15) (3.3.0)\n",
            "Requirement already satisfied, skipping upgrade: keras-preprocessing>=1.0.5 in /usr/local/lib/python3.7/dist-packages (from tensorflow==1.15) (1.1.2)\n",
            "Requirement already satisfied, skipping upgrade: wrapt>=1.11.1 in /usr/local/lib/python3.7/dist-packages (from tensorflow==1.15) (1.12.1)\n",
            "Requirement already satisfied, skipping upgrade: google-pasta>=0.1.6 in /usr/local/lib/python3.7/dist-packages (from tensorflow==1.15) (0.2.0)\n",
            "Requirement already satisfied, skipping upgrade: gast==0.2.2 in /usr/local/lib/python3.7/dist-packages (from tensorflow==1.15) (0.2.2)\n",
            "Requirement already satisfied, skipping upgrade: termcolor>=1.1.0 in /usr/local/lib/python3.7/dist-packages (from tensorflow==1.15) (1.1.0)\n",
            "Requirement already satisfied, skipping upgrade: absl-py>=0.7.0 in /usr/local/lib/python3.7/dist-packages (from tensorflow==1.15) (0.12.0)\n",
            "Requirement already satisfied, skipping upgrade: six>=1.10.0 in /usr/local/lib/python3.7/dist-packages (from tensorflow==1.15) (1.15.0)\n",
            "Requirement already satisfied, skipping upgrade: numpy<2.0,>=1.16.0 in /usr/local/lib/python3.7/dist-packages (from tensorflow==1.15) (1.19.5)\n",
            "Requirement already satisfied, skipping upgrade: keras-applications>=1.0.8 in /usr/local/lib/python3.7/dist-packages (from tensorflow==1.15) (1.0.8)\n",
            "Requirement already satisfied, skipping upgrade: protobuf>=3.6.1 in /usr/local/lib/python3.7/dist-packages (from tensorflow==1.15) (3.12.4)\n",
            "Requirement already satisfied, skipping upgrade: grpcio>=1.8.6 in /usr/local/lib/python3.7/dist-packages (from tensorflow==1.15) (1.34.1)\n",
            "Requirement already satisfied, skipping upgrade: astor>=0.6.0 in /usr/local/lib/python3.7/dist-packages (from tensorflow==1.15) (0.8.1)\n",
            "Requirement already satisfied, skipping upgrade: tensorboard<1.16.0,>=1.15.0 in /usr/local/lib/python3.7/dist-packages (from tensorflow==1.15) (1.15.0)\n",
            "Requirement already satisfied, skipping upgrade: wheel>=0.26 in /usr/local/lib/python3.7/dist-packages (from tensorflow==1.15) (0.36.2)\n",
            "Requirement already satisfied, skipping upgrade: tensorflow-estimator==1.15.1 in /usr/local/lib/python3.7/dist-packages (from tensorflow==1.15) (1.15.1)\n",
            "Requirement already satisfied, skipping upgrade: h5py in /usr/local/lib/python3.7/dist-packages (from keras-applications>=1.0.8->tensorflow==1.15) (3.1.0)\n",
            "Requirement already satisfied, skipping upgrade: setuptools in /usr/local/lib/python3.7/dist-packages (from protobuf>=3.6.1->tensorflow==1.15) (56.1.0)\n",
            "Requirement already satisfied, skipping upgrade: markdown>=2.6.8 in /usr/local/lib/python3.7/dist-packages (from tensorboard<1.16.0,>=1.15.0->tensorflow==1.15) (3.3.4)\n",
            "Requirement already satisfied, skipping upgrade: werkzeug>=0.11.15 in /usr/local/lib/python3.7/dist-packages (from tensorboard<1.16.0,>=1.15.0->tensorflow==1.15) (1.0.1)\n",
            "Requirement already satisfied, skipping upgrade: cached-property; python_version < \"3.8\" in /usr/local/lib/python3.7/dist-packages (from h5py->keras-applications>=1.0.8->tensorflow==1.15) (1.5.2)\n",
            "Requirement already satisfied, skipping upgrade: importlib-metadata; python_version < \"3.8\" in /usr/local/lib/python3.7/dist-packages (from markdown>=2.6.8->tensorboard<1.16.0,>=1.15.0->tensorflow==1.15) (4.0.1)\n",
            "Requirement already satisfied, skipping upgrade: typing-extensions>=3.6.4; python_version < \"3.8\" in /usr/local/lib/python3.7/dist-packages (from importlib-metadata; python_version < \"3.8\"->markdown>=2.6.8->tensorboard<1.16.0,>=1.15.0->tensorflow==1.15) (3.7.4.3)\n",
            "Requirement already satisfied, skipping upgrade: zipp>=0.5 in /usr/local/lib/python3.7/dist-packages (from importlib-metadata; python_version < \"3.8\"->markdown>=2.6.8->tensorboard<1.16.0,>=1.15.0->tensorflow==1.15) (3.4.1)\n"
          ],
          "name": "stdout"
        }
      ]
    },
    {
      "cell_type": "code",
      "metadata": {
        "id": "_-Aa_rBH1Yg0"
      },
      "source": [
        "import pandas as pd\n",
        "import numpy as np\n",
        "import tensorflow as tf\n",
        "import matplotlib.pyplot as plt\n",
        "from sklearn.preprocessing import StandardScaler\n",
        "from sklearn.preprocessing import LabelEncoder\n",
        "from tensorflow.keras.layers import SimpleRNNCell, RNN, Dense\n",
        "from sklearn.model_selection import train_test_split"
      ],
      "execution_count": null,
      "outputs": []
    },
    {
      "cell_type": "code",
      "metadata": {
        "id": "Yk8DnEvh5Upi"
      },
      "source": [
        "# Variable Pembantu\n",
        "layer = {\n",
        "    'input' : 1,\n",
        "    'output' : 1\n",
        "}\n",
        "\n",
        "EPOCH = 1000\n",
        "batch_size = 2\n",
        "time_step = 12"
      ],
      "execution_count": null,
      "outputs": []
    },
    {
      "cell_type": "code",
      "metadata": {
        "id": "dc1STPc21hbO"
      },
      "source": [
        "dataset = pd.read_csv('dataset.csv')"
      ],
      "execution_count": null,
      "outputs": []
    },
    {
      "cell_type": "code",
      "metadata": {
        "colab": {
          "base_uri": "https://localhost:8080/"
        },
        "id": "_j3gb8t11qK8",
        "outputId": "ceaef63c-767a-43d8-d001-9ea10cd9a933"
      },
      "source": [
        "prices = dataset['Price'].values\n",
        "prices"
      ],
      "execution_count": null,
      "outputs": [
        {
          "output_type": "execute_result",
          "data": {
            "text/plain": [
              "array([290.41  , 308.14  , 324.66  , 305.35  , 293.26  , 286.41  ,\n",
              "       312.96  , 340.72  , 375.67  , 338.66  , 344.36  , 348.69  ,\n",
              "       373.85  , 399.05  , 400.49  , 407.97  , 432.44  , 435.82  ,\n",
              "       444.83  , 426.28  , 432.92  , 512.54  , 529.1   , 554.04  ,\n",
              "       583.49  , 607.89  , 565.34  , 526.16  , 559.26  , 577.08  ,\n",
              "       579.01  , 569.77  , 575.35  , 557.82  , 539.14  , 529.8   ,\n",
              "       514.45  , 552.72  , 548.49  , 547.87  , 537.37  , 526.02  ,\n",
              "       631.38  , 627.54  , 603.28  , 715.73  , 748.81  , 769.5   ,\n",
              "       731.53  , 700.32  , 749.25  , 690.7   , 731.74  , 685.47  ,\n",
              "       772.71  ,  40.037 ,  40.303 ,  41.237 ,  40.879 ,  40.016 ,\n",
              "        43.89  ,  44.943 ,  46.165 ,  46.811 ,  47.516 ,  46.5   ,\n",
              "        49.47  ,  52.32  ,  55.26  ,  57.1577,  56.96  ])"
            ]
          },
          "metadata": {
            "tags": []
          },
          "execution_count": 5
        }
      ]
    },
    {
      "cell_type": "code",
      "metadata": {
        "id": "pJ8HcDM54qHD"
      },
      "source": [
        "def get_batch(dataset, time_step, batch_size):\n",
        "  input_batch = np.zeros(shape=(batch_size, time_step, layer['input']))\n",
        "  output_batch = np.zeros(shape=(batch_size, time_step, layer['output']))\n",
        "  \n",
        "  for i in range(batch_size):\n",
        "    point = np.random.randint(0, len(dataset) - time_step)\n",
        "    input_batch += dataset[point : point + time_step]\n",
        "    output_batch += dataset[point + 1 : point + time_step + 1]\n",
        "\n",
        "  return input_batch, output_batch"
      ],
      "execution_count": null,
      "outputs": []
    },
    {
      "cell_type": "code",
      "metadata": {
        "id": "tDCTomdu1u07"
      },
      "source": [
        "train_prices, test_prices = train_test_split(prices, test_size=0.17, shuffle=False)"
      ],
      "execution_count": null,
      "outputs": []
    },
    {
      "cell_type": "code",
      "metadata": {
        "id": "Hei_CnCh1ybF"
      },
      "source": [
        "train_prices = train_prices.reshape(-1, 1)\n",
        "test_prices = test_prices.reshape(-1, 1)"
      ],
      "execution_count": null,
      "outputs": []
    },
    {
      "cell_type": "code",
      "metadata": {
        "id": "h2HSssRJ1-au"
      },
      "source": [
        "scaler = StandardScaler().fit(train_prices)\n",
        "train_prices = scaler.transform(train_prices)\n",
        "test_prices = scaler.transform(test_prices)"
      ],
      "execution_count": null,
      "outputs": []
    },
    {
      "cell_type": "code",
      "metadata": {
        "id": "xzuffYqp2E_B"
      },
      "source": [
        "timestep = 12"
      ],
      "execution_count": null,
      "outputs": []
    },
    {
      "cell_type": "code",
      "metadata": {
        "colab": {
          "base_uri": "https://localhost:8080/"
        },
        "id": "4oOBij-O2GTn",
        "outputId": "4ef3db08-971b-4ca9-9994-569783eecc55"
      },
      "source": [
        "train_prices.shape"
      ],
      "execution_count": null,
      "outputs": [
        {
          "output_type": "execute_result",
          "data": {
            "text/plain": [
              "(58, 1)"
            ]
          },
          "metadata": {
            "tags": []
          },
          "execution_count": 11
        }
      ]
    },
    {
      "cell_type": "code",
      "metadata": {
        "id": "e0DnxMYK2ICG"
      },
      "source": [
        "def construct_dataset(in_prices):\n",
        "  features = []\n",
        "  targets = []\n",
        "\n",
        "  for i in range(timestep, in_prices.shape[0]):\n",
        "    features.append(\n",
        "        in_prices[i - timestep : i]\n",
        "    )\n",
        "    targets.append(\n",
        "        in_prices[i]\n",
        "    )\n",
        "  features = np.array(features, 'float32')\n",
        "  targets = np.array(targets, 'float32')\n",
        "\n",
        "  return features, targets"
      ],
      "execution_count": null,
      "outputs": []
    },
    {
      "cell_type": "code",
      "metadata": {
        "id": "09jzFrim2OpC"
      },
      "source": [
        "x_train, y_train = construct_dataset(train_prices)\n",
        "x_test, y_test = construct_dataset(test_prices)"
      ],
      "execution_count": null,
      "outputs": []
    },
    {
      "cell_type": "code",
      "metadata": {
        "id": "A-JPkPYO2QjK"
      },
      "source": [
        "input_placeholder = tf.placeholder(tf.float32, [None, timestep, 1])\n",
        "target_placeholder = tf.placeholder(tf.float32, [None, 1])"
      ],
      "execution_count": null,
      "outputs": []
    },
    {
      "cell_type": "code",
      "metadata": {
        "id": "V_2sfIRD2SbY"
      },
      "source": [
        "cell = SimpleRNNCell(12, activation='relu')\n",
        "\n",
        "rnn_layer = RNN(cell, dtype=tf.float32)\n",
        "output_layer = Dense(1)"
      ],
      "execution_count": null,
      "outputs": []
    },
    {
      "cell_type": "code",
      "metadata": {
        "colab": {
          "base_uri": "https://localhost:8080/"
        },
        "id": "nNNLZ1262WYD",
        "outputId": "2b4f731b-381d-4d2a-ab9f-61c05518035c"
      },
      "source": [
        "out_tensor = rnn_layer(input_placeholder)\n",
        "out_tensor = output_layer(out_tensor)"
      ],
      "execution_count": null,
      "outputs": [
        {
          "output_type": "stream",
          "text": [
            "WARNING:tensorflow:From /usr/local/lib/python3.7/dist-packages/tensorflow_core/python/ops/resource_variable_ops.py:1630: calling BaseResourceVariable.__init__ (from tensorflow.python.ops.resource_variable_ops) with constraint is deprecated and will be removed in a future version.\n",
            "Instructions for updating:\n",
            "If using Keras pass *_constraint arguments to layers.\n"
          ],
          "name": "stdout"
        }
      ]
    },
    {
      "cell_type": "code",
      "metadata": {
        "id": "DhBkQOIg2XWN"
      },
      "source": [
        "# mse\n",
        "loss_tensor = tf.reduce_mean(0.5 * (out_tensor - target_placeholder)**2)\n",
        "\n",
        "# optimal rmse (root mean squared error)\n",
        "rmse_tensor = tf.reduce_mean(tf.sqrt(0.5 * (out_tensor - target_placeholder)**2))"
      ],
      "execution_count": null,
      "outputs": []
    },
    {
      "cell_type": "code",
      "metadata": {
        "colab": {
          "base_uri": "https://localhost:8080/"
        },
        "id": "9A_Ow60P2ZxX",
        "outputId": "9d5441d9-1e31-4af3-8ce2-60e1177bcb20"
      },
      "source": [
        "optimizer = tf.train.AdamOptimizer().minimize(loss_tensor)"
      ],
      "execution_count": null,
      "outputs": [
        {
          "output_type": "stream",
          "text": [
            "WARNING:tensorflow:From /usr/local/lib/python3.7/dist-packages/tensorflow_core/python/ops/math_grad.py:1375: where (from tensorflow.python.ops.array_ops) is deprecated and will be removed in a future version.\n",
            "Instructions for updating:\n",
            "Use tf.where in 2.0, which has the same broadcast rule as np.where\n"
          ],
          "name": "stdout"
        }
      ]
    },
    {
      "cell_type": "code",
      "metadata": {
        "id": "qP97DuA-2cK8"
      },
      "source": [
        "saver = tf.train.Saver()"
      ],
      "execution_count": null,
      "outputs": []
    },
    {
      "cell_type": "code",
      "metadata": {
        "id": "oOoEkAJw2d4R"
      },
      "source": [
        "num_epoch = 5000"
      ],
      "execution_count": null,
      "outputs": []
    },
    {
      "cell_type": "code",
      "metadata": {
        "colab": {
          "base_uri": "https://localhost:8080/"
        },
        "id": "2rLcoUjD2h9W",
        "outputId": "b2b65fe5-e0c2-4371-f095-06efebacc5ab"
      },
      "source": [
        "with tf.Session() as sess:\n",
        "  sess.run(tf.global_variables_initializer())\n",
        "\n",
        "  train_dict = {\n",
        "      input_placeholder:x_train,\n",
        "      target_placeholder:y_train\n",
        "  }\n",
        "  test_dict = {\n",
        "      input_placeholder:x_test,\n",
        "      target_placeholder:y_test\n",
        "  }\n",
        "\n",
        "  best_loss = float('inf')\n",
        "  for epoch in range(0,num_epoch):\n",
        "    sess.run(optimizer, feed_dict=train_dict)\n",
        "\n",
        "    loss = sess.run(loss_tensor, feed_dict=train_dict)\n",
        "    val_loss = sess.run(loss_tensor, feed_dict=test_dict)\n",
        "\n",
        "    rmse = sess.run(rmse_tensor, feed_dict=train_dict)\n",
        "    val_rmse = sess.run(rmse_tensor, feed_dict=test_dict)\n",
        "\n",
        "    if epoch % 1000:\n",
        "      saver.save(sess, './best_model.ckpt')\n",
        "      \n",
        "    if epoch % 250 == 0:\n",
        "      print(f'Epoch {epoch} - loss {loss:.4f} ')"
      ],
      "execution_count": null,
      "outputs": [
        {
          "output_type": "stream",
          "text": [
            "Epoch 0 - loss 0.8987 \n",
            "Epoch 250 - loss 0.1878 \n",
            "Epoch 500 - loss 0.1802 \n",
            "Epoch 750 - loss 0.1786 \n",
            "Epoch 1000 - loss 0.1773 \n",
            "Epoch 1250 - loss 0.1754 \n",
            "Epoch 1500 - loss 0.0230 \n",
            "Epoch 1750 - loss 0.0201 \n",
            "Epoch 2000 - loss 0.0192 \n",
            "Epoch 2250 - loss 0.0180 \n",
            "Epoch 2500 - loss 0.0166 \n",
            "Epoch 2750 - loss 0.0149 \n",
            "Epoch 3000 - loss 0.0124 \n",
            "Epoch 3250 - loss 0.0095 \n",
            "Epoch 3500 - loss 0.0070 \n",
            "Epoch 3750 - loss 0.0047 \n",
            "Epoch 4000 - loss 0.0037 \n",
            "Epoch 4250 - loss 0.0032 \n",
            "Epoch 4500 - loss 0.0026 \n",
            "Epoch 4750 - loss 0.0021 \n"
          ],
          "name": "stdout"
        }
      ]
    },
    {
      "cell_type": "code",
      "metadata": {
        "id": "qUssdO_l3F75"
      },
      "source": [
        "x = prices[-12:]\n",
        "x = x.reshape(-1, 1)\n",
        "x = scaler.transform(x)\n",
        "x = np.array([x])"
      ],
      "execution_count": null,
      "outputs": []
    },
    {
      "cell_type": "code",
      "metadata": {
        "colab": {
          "base_uri": "https://localhost:8080/"
        },
        "id": "H-HNFFCy3LKL",
        "outputId": "594b378b-3c02-4763-d80e-89408a52efec"
      },
      "source": [
        "with tf.Session() as sess:\n",
        "  saver.restore(sess, './best_model.ckpt')\n",
        "\n",
        "  pred = sess.run(out_tensor, feed_dict={input_placeholder:x})\n",
        "  pred = scaler.inverse_transform(pred)\n",
        "  print(f'predicted stock price of google in next month: {pred}')"
      ],
      "execution_count": null,
      "outputs": [
        {
          "output_type": "stream",
          "text": [
            "INFO:tensorflow:Restoring parameters from ./best_model.ckpt\n",
            "predicted stock price of google in next month: [[348.59103]]\n"
          ],
          "name": "stdout"
        }
      ]
    }
  ]
}